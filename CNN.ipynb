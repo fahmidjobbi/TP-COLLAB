{
  "nbformat": 4,
  "nbformat_minor": 0,
  "metadata": {
    "colab": {
      "provenance": [],
      "mount_file_id": "1RbzF8Y0cPlwnwjxabCkMRtRGHnTm-SR6",
      "authorship_tag": "ABX9TyOYgJiOEOo77lIa3YvBcTB5",
      "include_colab_link": true
    },
    "kernelspec": {
      "name": "python3",
      "display_name": "Python 3"
    },
    "language_info": {
      "name": "python"
    }
  },
  "cells": [
    {
      "cell_type": "markdown",
      "metadata": {
        "id": "view-in-github",
        "colab_type": "text"
      },
      "source": [
        "<a href=\"https://colab.research.google.com/github/fahmidjobbi/TP-COLLAB/blob/main/CNN.ipynb\" target=\"_parent\"><img src=\"https://colab.research.google.com/assets/colab-badge.svg\" alt=\"Open In Colab\"/></a>"
      ]
    },
    {
      "cell_type": "code",
      "execution_count": 38,
      "metadata": {
        "id": "PIcP3UZuOJ16"
      },
      "outputs": [],
      "source": [
        "import numpy as np \n",
        "from PIL import Image \n",
        "import os \n"
      ]
    },
    {
      "cell_type": "code",
      "source": [
        "pip install tensorflow"
      ],
      "metadata": {
        "colab": {
          "base_uri": "https://localhost:8080/"
        },
        "id": "tvutVOCdaphL",
        "outputId": "7ae181cc-a1c6-429d-e4f9-58e49a8d8caf"
      },
      "execution_count": 40,
      "outputs": [
        {
          "output_type": "stream",
          "name": "stdout",
          "text": [
            "Looking in indexes: https://pypi.org/simple, https://us-python.pkg.dev/colab-wheels/public/simple/\n",
            "Requirement already satisfied: tensorflow in /usr/local/lib/python3.7/dist-packages (2.8.2+zzzcolab20220719082949)\n",
            "Requirement already satisfied: termcolor>=1.1.0 in /usr/local/lib/python3.7/dist-packages (from tensorflow) (1.1.0)\n",
            "Requirement already satisfied: numpy>=1.20 in /usr/local/lib/python3.7/dist-packages (from tensorflow) (1.21.6)\n",
            "Requirement already satisfied: libclang>=9.0.1 in /usr/local/lib/python3.7/dist-packages (from tensorflow) (14.0.6)\n",
            "Requirement already satisfied: six>=1.12.0 in /usr/local/lib/python3.7/dist-packages (from tensorflow) (1.15.0)\n",
            "Requirement already satisfied: absl-py>=0.4.0 in /usr/local/lib/python3.7/dist-packages (from tensorflow) (1.2.0)\n",
            "Requirement already satisfied: flatbuffers>=1.12 in /usr/local/lib/python3.7/dist-packages (from tensorflow) (2.0.7)\n",
            "Requirement already satisfied: typing-extensions>=3.6.6 in /usr/local/lib/python3.7/dist-packages (from tensorflow) (4.1.1)\n",
            "Requirement already satisfied: setuptools in /usr/local/lib/python3.7/dist-packages (from tensorflow) (57.4.0)\n",
            "Requirement already satisfied: gast>=0.2.1 in /usr/local/lib/python3.7/dist-packages (from tensorflow) (0.5.3)\n",
            "Requirement already satisfied: tensorflow-io-gcs-filesystem>=0.23.1 in /usr/local/lib/python3.7/dist-packages (from tensorflow) (0.26.0)\n",
            "Requirement already satisfied: keras<2.9,>=2.8.0rc0 in /usr/local/lib/python3.7/dist-packages (from tensorflow) (2.8.0)\n",
            "Requirement already satisfied: wrapt>=1.11.0 in /usr/local/lib/python3.7/dist-packages (from tensorflow) (1.14.1)\n",
            "Requirement already satisfied: google-pasta>=0.1.1 in /usr/local/lib/python3.7/dist-packages (from tensorflow) (0.2.0)\n",
            "Requirement already satisfied: astunparse>=1.6.0 in /usr/local/lib/python3.7/dist-packages (from tensorflow) (1.6.3)\n",
            "Requirement already satisfied: keras-preprocessing>=1.1.1 in /usr/local/lib/python3.7/dist-packages (from tensorflow) (1.1.2)\n",
            "Requirement already satisfied: protobuf<3.20,>=3.9.2 in /usr/local/lib/python3.7/dist-packages (from tensorflow) (3.17.3)\n",
            "Requirement already satisfied: opt-einsum>=2.3.2 in /usr/local/lib/python3.7/dist-packages (from tensorflow) (3.3.0)\n",
            "Requirement already satisfied: tensorboard<2.9,>=2.8 in /usr/local/lib/python3.7/dist-packages (from tensorflow) (2.8.0)\n",
            "Requirement already satisfied: tensorflow-estimator<2.9,>=2.8 in /usr/local/lib/python3.7/dist-packages (from tensorflow) (2.8.0)\n",
            "Requirement already satisfied: h5py>=2.9.0 in /usr/local/lib/python3.7/dist-packages (from tensorflow) (3.1.0)\n",
            "Requirement already satisfied: grpcio<2.0,>=1.24.3 in /usr/local/lib/python3.7/dist-packages (from tensorflow) (1.48.1)\n",
            "Requirement already satisfied: wheel<1.0,>=0.23.0 in /usr/local/lib/python3.7/dist-packages (from astunparse>=1.6.0->tensorflow) (0.37.1)\n",
            "Requirement already satisfied: cached-property in /usr/local/lib/python3.7/dist-packages (from h5py>=2.9.0->tensorflow) (1.5.2)\n",
            "Requirement already satisfied: tensorboard-data-server<0.7.0,>=0.6.0 in /usr/local/lib/python3.7/dist-packages (from tensorboard<2.9,>=2.8->tensorflow) (0.6.1)\n",
            "Requirement already satisfied: markdown>=2.6.8 in /usr/local/lib/python3.7/dist-packages (from tensorboard<2.9,>=2.8->tensorflow) (3.4.1)\n",
            "Requirement already satisfied: tensorboard-plugin-wit>=1.6.0 in /usr/local/lib/python3.7/dist-packages (from tensorboard<2.9,>=2.8->tensorflow) (1.8.1)\n",
            "Requirement already satisfied: werkzeug>=0.11.15 in /usr/local/lib/python3.7/dist-packages (from tensorboard<2.9,>=2.8->tensorflow) (1.0.1)\n",
            "Requirement already satisfied: requests<3,>=2.21.0 in /usr/local/lib/python3.7/dist-packages (from tensorboard<2.9,>=2.8->tensorflow) (2.23.0)\n",
            "Requirement already satisfied: google-auth<3,>=1.6.3 in /usr/local/lib/python3.7/dist-packages (from tensorboard<2.9,>=2.8->tensorflow) (1.35.0)\n",
            "Requirement already satisfied: google-auth-oauthlib<0.5,>=0.4.1 in /usr/local/lib/python3.7/dist-packages (from tensorboard<2.9,>=2.8->tensorflow) (0.4.6)\n",
            "Requirement already satisfied: cachetools<5.0,>=2.0.0 in /usr/local/lib/python3.7/dist-packages (from google-auth<3,>=1.6.3->tensorboard<2.9,>=2.8->tensorflow) (4.2.4)\n",
            "Requirement already satisfied: pyasn1-modules>=0.2.1 in /usr/local/lib/python3.7/dist-packages (from google-auth<3,>=1.6.3->tensorboard<2.9,>=2.8->tensorflow) (0.2.8)\n",
            "Requirement already satisfied: rsa<5,>=3.1.4 in /usr/local/lib/python3.7/dist-packages (from google-auth<3,>=1.6.3->tensorboard<2.9,>=2.8->tensorflow) (4.9)\n",
            "Requirement already satisfied: requests-oauthlib>=0.7.0 in /usr/local/lib/python3.7/dist-packages (from google-auth-oauthlib<0.5,>=0.4.1->tensorboard<2.9,>=2.8->tensorflow) (1.3.1)\n",
            "Requirement already satisfied: importlib-metadata>=4.4 in /usr/local/lib/python3.7/dist-packages (from markdown>=2.6.8->tensorboard<2.9,>=2.8->tensorflow) (4.12.0)\n",
            "Requirement already satisfied: zipp>=0.5 in /usr/local/lib/python3.7/dist-packages (from importlib-metadata>=4.4->markdown>=2.6.8->tensorboard<2.9,>=2.8->tensorflow) (3.8.1)\n",
            "Requirement already satisfied: pyasn1<0.5.0,>=0.4.6 in /usr/local/lib/python3.7/dist-packages (from pyasn1-modules>=0.2.1->google-auth<3,>=1.6.3->tensorboard<2.9,>=2.8->tensorflow) (0.4.8)\n",
            "Requirement already satisfied: certifi>=2017.4.17 in /usr/local/lib/python3.7/dist-packages (from requests<3,>=2.21.0->tensorboard<2.9,>=2.8->tensorflow) (2022.6.15)\n",
            "Requirement already satisfied: urllib3!=1.25.0,!=1.25.1,<1.26,>=1.21.1 in /usr/local/lib/python3.7/dist-packages (from requests<3,>=2.21.0->tensorboard<2.9,>=2.8->tensorflow) (1.24.3)\n",
            "Requirement already satisfied: idna<3,>=2.5 in /usr/local/lib/python3.7/dist-packages (from requests<3,>=2.21.0->tensorboard<2.9,>=2.8->tensorflow) (2.10)\n",
            "Requirement already satisfied: chardet<4,>=3.0.2 in /usr/local/lib/python3.7/dist-packages (from requests<3,>=2.21.0->tensorboard<2.9,>=2.8->tensorflow) (3.0.4)\n",
            "Requirement already satisfied: oauthlib>=3.0.0 in /usr/local/lib/python3.7/dist-packages (from requests-oauthlib>=0.7.0->google-auth-oauthlib<0.5,>=0.4.1->tensorboard<2.9,>=2.8->tensorflow) (3.2.0)\n"
          ]
        }
      ]
    },
    {
      "cell_type": "code",
      "source": [
        "from tensorflow.keras.utils import to_categorical "
      ],
      "metadata": {
        "id": "UvrAy9Jhaygq"
      },
      "execution_count": 42,
      "outputs": []
    },
    {
      "cell_type": "code",
      "source": [
        "def get_data_set(filepath):\n",
        "  imgs=[]\n",
        "  lables=[]\n",
        "  print('start reading files ...')\n",
        "  for f in os.listdir(filepath):\n",
        "    if not (f.endswith('pgm')):\n",
        "      lables.append(f.split('.')[0])\n",
        "      print('reading file'+f)\n",
        "      img=np.asarray(Image.open(filepath+f))\n",
        "      imgs.append(img)\n",
        "  print('reading files finished')\n",
        "  return np.asarray(imgs),lables\n",
        "\n",
        "filepath =('/content/drive/MyDrive/yalefaces/')\n",
        "imgs , labels = get_data_set(filepath)"
      ],
      "metadata": {
        "colab": {
          "base_uri": "https://localhost:8080/"
        },
        "id": "Mxvbna0pOR1D",
        "outputId": "28891418-1fbf-4b02-e250-01c3b70935d5"
      },
      "execution_count": 2,
      "outputs": [
        {
          "output_type": "stream",
          "name": "stdout",
          "text": [
            "start reading files ...\n",
            "reading filesubject01.centerlight\n",
            "reading filesubject01.glasses\n",
            "reading filesubject01.happy\n",
            "reading filesubject01.noglasses\n",
            "reading filesubject01.leftlight\n",
            "reading filesubject01.normal\n",
            "reading filesubject01.rightlight\n",
            "reading filesubject01.sad\n",
            "reading filesubject01.sleepy\n",
            "reading filesubject01.surprised\n",
            "reading filesubject01.wink\n",
            "reading filesubject02.centerlight\n",
            "reading filesubject02.glasses\n",
            "reading filesubject02.happy\n",
            "reading filesubject02.noglasses\n",
            "reading filesubject02.leftlight\n",
            "reading filesubject02.normal\n",
            "reading filesubject02.rightlight\n",
            "reading filesubject02.sleepy\n",
            "reading filesubject02.sad\n",
            "reading filesubject02.surprised\n",
            "reading filesubject03.centerlight\n",
            "reading filesubject02.wink\n",
            "reading filesubject03.happy\n",
            "reading filesubject03.glasses\n",
            "reading filesubject03.leftlight\n",
            "reading filesubject03.noglasses\n",
            "reading filesubject03.normal\n",
            "reading filesubject03.rightlight\n",
            "reading filesubject03.sleepy\n",
            "reading filesubject03.sad\n",
            "reading filesubject03.surprised\n",
            "reading filesubject03.wink\n",
            "reading filesubject04.centerlight\n",
            "reading filesubject04.happy\n",
            "reading filesubject04.glasses\n",
            "reading filesubject04.leftlight\n",
            "reading filesubject04.noglasses\n",
            "reading filesubject04.normal\n",
            "reading filesubject04.rightlight\n",
            "reading filesubject04.sleepy\n",
            "reading filesubject04.surprised\n",
            "reading filesubject04.wink\n",
            "reading filesubject05.centerlight\n",
            "reading filesubject05.glasses\n",
            "reading filesubject05.happy\n",
            "reading filesubject05.leftlight\n",
            "reading filesubject05.noglasses\n",
            "reading filesubject05.normal\n",
            "reading filesubject05.rightlight\n",
            "reading filesubject05.sleepy\n",
            "reading filesubject05.sad\n",
            "reading filesubject05.surprised\n",
            "reading filesubject06.centerlight\n",
            "reading filesubject05.wink\n",
            "reading filesubject06.glasses\n",
            "reading filesubject06.happy\n",
            "reading filesubject06.leftlight\n",
            "reading filesubject06.noglasses\n",
            "reading filesubject06.rightlight\n",
            "reading filesubject06.normal\n",
            "reading filesubject06.sad\n",
            "reading filesubject06.surprised\n",
            "reading filesubject06.sleepy\n",
            "reading filesubject06.wink\n",
            "reading filesubject07.glasses\n",
            "reading filesubject07.centerlight\n",
            "reading filesubject07.leftlight\n",
            "reading filesubject07.happy\n",
            "reading filesubject07.noglasses\n",
            "reading filesubject07.normal\n",
            "reading filesubject07.rightlight\n",
            "reading filesubject07.sad\n",
            "reading filesubject07.sleepy\n",
            "reading filesubject07.surprised\n",
            "reading filesubject07.wink\n",
            "reading filesubject08.centerlight\n",
            "reading filesubject08.glasses\n",
            "reading filesubject08.leftlight\n",
            "reading filesubject08.happy\n",
            "reading filesubject08.noglasses\n",
            "reading filesubject08.normal\n",
            "reading filesubject08.rightlight\n",
            "reading filesubject08.sad\n",
            "reading filesubject08.sleepy\n",
            "reading filesubject08.surprised\n",
            "reading filesubject08.wink\n",
            "reading filesubject09.glasses\n",
            "reading filesubject09.centerlight\n",
            "reading filesubject09.happy\n",
            "reading filesubject09.leftlight\n",
            "reading filesubject09.noglasses\n",
            "reading filesubject09.normal\n",
            "reading filesubject09.rightlight\n",
            "reading filesubject09.sad\n",
            "reading filesubject09.sleepy\n",
            "reading filesubject09.wink\n",
            "reading filesubject09.surprised\n",
            "reading filesubject10.centerlight\n",
            "reading filesubject10.glasses\n",
            "reading filesubject10.happy\n",
            "reading filesubject10.leftlight\n",
            "reading filesubject10.noglasses\n",
            "reading filesubject10.normal\n",
            "reading filesubject10.rightlight\n",
            "reading filesubject10.sad\n",
            "reading filesubject10.sleepy\n",
            "reading filesubject10.wink\n",
            "reading filesubject10.surprised\n",
            "reading filesubject11.glasses\n",
            "reading filesubject11.centerlight\n",
            "reading filesubject11.happy\n",
            "reading filesubject11.noglasses\n",
            "reading filesubject11.leftlight\n",
            "reading filesubject11.normal\n",
            "reading filesubject11.rightlight\n",
            "reading filesubject11.sad\n",
            "reading filesubject11.sleepy\n",
            "reading filesubject11.wink\n",
            "reading filesubject11.surprised\n",
            "reading filesubject12.centerlight\n",
            "reading filesubject12.glasses\n",
            "reading filesubject12.happy\n",
            "reading filesubject12.leftlight\n",
            "reading filesubject12.normal\n",
            "reading filesubject12.noglasses\n",
            "reading filesubject12.sad\n",
            "reading filesubject12.rightlight\n",
            "reading filesubject12.sleepy\n",
            "reading filesubject12.wink\n",
            "reading filesubject12.surprised\n",
            "reading filesubject13.centerlight\n",
            "reading filesubject13.glasses\n",
            "reading filesubject13.happy\n",
            "reading filesubject13.leftlight\n",
            "reading filesubject13.normal\n",
            "reading filesubject13.noglasses\n",
            "reading filesubject13.rightlight\n",
            "reading filesubject13.sad\n",
            "reading filesubject13.sleepy\n",
            "reading filesubject13.surprised\n",
            "reading filesubject13.wink\n",
            "reading filesubject14.centerlight\n",
            "reading filesubject14.glasses\n",
            "reading filesubject14.happy\n",
            "reading filesubject14.leftlight\n",
            "reading filesubject14.noglasses\n",
            "reading filesubject14.normal\n",
            "reading filesubject14.sad\n",
            "reading filesubject14.rightlight\n",
            "reading filesubject14.sleepy\n",
            "reading filesubject14.surprised\n",
            "reading filesubject14.wink\n",
            "reading filesubject15.glasses\n",
            "reading filesubject15.centerlight\n",
            "reading filesubject15.happy\n",
            "reading filesubject15.noglasses\n",
            "reading filesubject15.leftlight\n",
            "reading filesubject15.normal\n",
            "reading filesubject15.rightlight\n",
            "reading filesubject15.sad\n",
            "reading filesubject15.sleepy\n",
            "reading filesubject15.wink\n",
            "reading filesubject15.surprised\n",
            "reading filesubject04.sad\n",
            "reading files finished\n"
          ]
        }
      ]
    },
    {
      "cell_type": "code",
      "source": [
        "labels1=[labels[i][-2:] for i in range(len(labels))]"
      ],
      "metadata": {
        "id": "rflW66vPOXEa"
      },
      "execution_count": 3,
      "outputs": []
    },
    {
      "cell_type": "code",
      "source": [
        "from sklearn.model_selection import train_test_split\n",
        "from keras.models import Sequential \n",
        "from keras.layers import convolutional\n",
        "from keras.layers import MaxPooling2D\n",
        "from keras.layers import Flatten\n",
        "from keras.layers import Dense"
      ],
      "metadata": {
        "id": "JS2KimVGOZNn"
      },
      "execution_count": 16,
      "outputs": []
    },
    {
      "cell_type": "code",
      "source": [
        "X_train, X_test, y_train, y_test=train_test_split(imgs,labels1,test_size=0.33,random_state=0)\n",
        "x_train1=X_train.reshape(X_train.shape[0],X_train.shape[1],X_train.shape[2],1)\n",
        "x_test1=X_test.reshape(X_test.shape[0],X_test.shape[1],X_test.shape[2],1)\n",
        "y_train1=to_categorical(y_train)\n",
        "y_test1=to_categorical(y_test)\n",
        "y_train2=y_train1[:,1:]\n",
        "y_test2=y_test1[:,1:]"
      ],
      "metadata": {
        "id": "CgxWUAVHOebT"
      },
      "execution_count": 43,
      "outputs": []
    },
    {
      "cell_type": "code",
      "source": [
        "classifier=Sequential()\n",
        "classifier.add(convolutional.Convolution2D(32,kernel_size=9,input_shape=(243,320,1),activation='relu'))"
      ],
      "metadata": {
        "id": "d9JEnU19OxfB"
      },
      "execution_count": 33,
      "outputs": []
    },
    {
      "cell_type": "code",
      "source": [
        "classifier.add(MaxPooling2D(pool_size=(8,8)))\n",
        "classifier.add(Flatten())"
      ],
      "metadata": {
        "id": "AxKkQj8GRQJF"
      },
      "execution_count": 34,
      "outputs": []
    },
    {
      "cell_type": "code",
      "source": [
        "from keras.layers import Dense, Dropout, Activation, Flatten\n",
        "from keras import losses\n",
        "classifier.add(Dense(30,input_dim=4,activation=\"relu\"))\n",
        "classifier.add(Dense(15,activation='softmax'))\n",
        "classifier.compile('adam',loss=losses.categorical_crossentropy,metrics=['accuracy'])"
      ],
      "metadata": {
        "id": "uOoUlhwPR2HO"
      },
      "execution_count": 35,
      "outputs": []
    },
    {
      "cell_type": "code",
      "source": [
        "classifier.fit(x_train1,y_train2,validation_data=(x_test1,y_test2),epochs=50,batch_size=32)"
      ],
      "metadata": {
        "colab": {
          "base_uri": "https://localhost:8080/"
        },
        "id": "Wl_N0IegVkur",
        "outputId": "538c85dc-07de-4fe9-d2bb-13391afcab52"
      },
      "execution_count": 44,
      "outputs": [
        {
          "output_type": "stream",
          "name": "stdout",
          "text": [
            "Epoch 1/50\n",
            "4/4 [==============================] - 10s 2s/step - loss: 411.6582 - accuracy: 0.0364 - val_loss: 120.0583 - val_accuracy: 0.0727\n",
            "Epoch 2/50\n",
            "4/4 [==============================] - 8s 2s/step - loss: 53.6859 - accuracy: 0.0636 - val_loss: 2.8064 - val_accuracy: 0.0727\n",
            "Epoch 3/50\n",
            "4/4 [==============================] - 9s 2s/step - loss: 2.6139 - accuracy: 0.0818 - val_loss: 2.6802 - val_accuracy: 0.0909\n",
            "Epoch 4/50\n",
            "4/4 [==============================] - 8s 2s/step - loss: 2.2665 - accuracy: 0.1727 - val_loss: 1.9240 - val_accuracy: 0.2545\n",
            "Epoch 5/50\n",
            "4/4 [==============================] - 9s 2s/step - loss: 1.6360 - accuracy: 0.4182 - val_loss: 1.2805 - val_accuracy: 0.5091\n",
            "Epoch 6/50\n",
            "4/4 [==============================] - 9s 2s/step - loss: 0.9848 - accuracy: 0.6000 - val_loss: 0.9916 - val_accuracy: 0.6182\n",
            "Epoch 7/50\n",
            "4/4 [==============================] - 9s 2s/step - loss: 0.5580 - accuracy: 0.8000 - val_loss: 0.4470 - val_accuracy: 0.8909\n",
            "Epoch 8/50\n",
            "4/4 [==============================] - 8s 2s/step - loss: 0.2941 - accuracy: 0.9182 - val_loss: 0.2476 - val_accuracy: 0.9091\n",
            "Epoch 9/50\n",
            "4/4 [==============================] - 9s 2s/step - loss: 0.1400 - accuracy: 0.9727 - val_loss: 0.1348 - val_accuracy: 0.9818\n",
            "Epoch 10/50\n",
            "4/4 [==============================] - 10s 3s/step - loss: 0.0806 - accuracy: 0.9909 - val_loss: 0.1062 - val_accuracy: 0.9636\n",
            "Epoch 11/50\n",
            "4/4 [==============================] - 8s 2s/step - loss: 0.0192 - accuracy: 1.0000 - val_loss: 0.1856 - val_accuracy: 0.9455\n",
            "Epoch 12/50\n",
            "4/4 [==============================] - 8s 2s/step - loss: 0.0549 - accuracy: 0.9909 - val_loss: 0.1636 - val_accuracy: 0.9455\n",
            "Epoch 13/50\n",
            "4/4 [==============================] - 9s 2s/step - loss: 0.0056 - accuracy: 1.0000 - val_loss: 0.2487 - val_accuracy: 0.9455\n",
            "Epoch 14/50\n",
            "4/4 [==============================] - 9s 2s/step - loss: 0.0077 - accuracy: 1.0000 - val_loss: 0.2767 - val_accuracy: 0.9636\n",
            "Epoch 15/50\n",
            "4/4 [==============================] - 9s 2s/step - loss: 0.0045 - accuracy: 1.0000 - val_loss: 0.2718 - val_accuracy: 0.9636\n",
            "Epoch 16/50\n",
            "4/4 [==============================] - 9s 2s/step - loss: 0.0025 - accuracy: 1.0000 - val_loss: 0.2522 - val_accuracy: 0.9636\n",
            "Epoch 17/50\n",
            "4/4 [==============================] - 8s 2s/step - loss: 0.0012 - accuracy: 1.0000 - val_loss: 0.2428 - val_accuracy: 0.9636\n",
            "Epoch 18/50\n",
            "4/4 [==============================] - 8s 2s/step - loss: 5.4231e-04 - accuracy: 1.0000 - val_loss: 0.2351 - val_accuracy: 0.9636\n",
            "Epoch 19/50\n",
            "4/4 [==============================] - 9s 2s/step - loss: 3.4741e-04 - accuracy: 1.0000 - val_loss: 0.2245 - val_accuracy: 0.9636\n",
            "Epoch 20/50\n",
            "4/4 [==============================] - 9s 2s/step - loss: 2.1200e-04 - accuracy: 1.0000 - val_loss: 0.2131 - val_accuracy: 0.9636\n",
            "Epoch 21/50\n",
            "4/4 [==============================] - 9s 2s/step - loss: 1.4218e-04 - accuracy: 1.0000 - val_loss: 0.2038 - val_accuracy: 0.9818\n",
            "Epoch 22/50\n",
            "4/4 [==============================] - 9s 2s/step - loss: 1.0169e-04 - accuracy: 1.0000 - val_loss: 0.1993 - val_accuracy: 0.9818\n",
            "Epoch 23/50\n",
            "4/4 [==============================] - 8s 2s/step - loss: 7.6617e-05 - accuracy: 1.0000 - val_loss: 0.1956 - val_accuracy: 0.9818\n",
            "Epoch 24/50\n",
            "4/4 [==============================] - 9s 2s/step - loss: 6.1065e-05 - accuracy: 1.0000 - val_loss: 0.1927 - val_accuracy: 0.9818\n",
            "Epoch 25/50\n",
            "4/4 [==============================] - 8s 2s/step - loss: 5.0484e-05 - accuracy: 1.0000 - val_loss: 0.1907 - val_accuracy: 0.9818\n",
            "Epoch 26/50\n",
            "4/4 [==============================] - 9s 2s/step - loss: 4.1330e-05 - accuracy: 1.0000 - val_loss: 0.1900 - val_accuracy: 0.9818\n",
            "Epoch 27/50\n",
            "4/4 [==============================] - 9s 2s/step - loss: 3.6912e-05 - accuracy: 1.0000 - val_loss: 0.1880 - val_accuracy: 0.9818\n",
            "Epoch 28/50\n",
            "4/4 [==============================] - 8s 2s/step - loss: 3.0983e-05 - accuracy: 1.0000 - val_loss: 0.1871 - val_accuracy: 0.9818\n",
            "Epoch 29/50\n",
            "4/4 [==============================] - 8s 2s/step - loss: 2.7133e-05 - accuracy: 1.0000 - val_loss: 0.1861 - val_accuracy: 0.9818\n",
            "Epoch 30/50\n",
            "4/4 [==============================] - 9s 2s/step - loss: 2.4949e-05 - accuracy: 1.0000 - val_loss: 0.1857 - val_accuracy: 0.9818\n",
            "Epoch 31/50\n",
            "4/4 [==============================] - 9s 2s/step - loss: 2.2667e-05 - accuracy: 1.0000 - val_loss: 0.1856 - val_accuracy: 0.9818\n",
            "Epoch 32/50\n",
            "4/4 [==============================] - 10s 3s/step - loss: 2.0719e-05 - accuracy: 1.0000 - val_loss: 0.1857 - val_accuracy: 0.9818\n",
            "Epoch 33/50\n",
            "4/4 [==============================] - 9s 2s/step - loss: 1.9241e-05 - accuracy: 1.0000 - val_loss: 0.1856 - val_accuracy: 0.9818\n",
            "Epoch 34/50\n",
            "4/4 [==============================] - 9s 2s/step - loss: 1.7708e-05 - accuracy: 1.0000 - val_loss: 0.1856 - val_accuracy: 0.9818\n",
            "Epoch 35/50\n",
            "4/4 [==============================] - 10s 2s/step - loss: 1.6481e-05 - accuracy: 1.0000 - val_loss: 0.1856 - val_accuracy: 0.9818\n",
            "Epoch 36/50\n",
            "4/4 [==============================] - 8s 2s/step - loss: 1.5686e-05 - accuracy: 1.0000 - val_loss: 0.1860 - val_accuracy: 0.9818\n",
            "Epoch 37/50\n",
            "4/4 [==============================] - 9s 2s/step - loss: 1.4555e-05 - accuracy: 1.0000 - val_loss: 0.1869 - val_accuracy: 0.9818\n",
            "Epoch 38/50\n",
            "4/4 [==============================] - 9s 2s/step - loss: 1.3475e-05 - accuracy: 1.0000 - val_loss: 0.1879 - val_accuracy: 0.9818\n",
            "Epoch 39/50\n",
            "4/4 [==============================] - 9s 2s/step - loss: 1.2714e-05 - accuracy: 1.0000 - val_loss: 0.1887 - val_accuracy: 0.9818\n",
            "Epoch 40/50\n",
            "4/4 [==============================] - 8s 2s/step - loss: 1.1782e-05 - accuracy: 1.0000 - val_loss: 0.1894 - val_accuracy: 0.9818\n",
            "Epoch 41/50\n",
            "4/4 [==============================] - 9s 2s/step - loss: 1.1256e-05 - accuracy: 1.0000 - val_loss: 0.1904 - val_accuracy: 0.9818\n",
            "Epoch 42/50\n",
            "4/4 [==============================] - 9s 2s/step - loss: 1.0581e-05 - accuracy: 1.0000 - val_loss: 0.1910 - val_accuracy: 0.9818\n",
            "Epoch 43/50\n",
            "4/4 [==============================] - 8s 2s/step - loss: 1.0032e-05 - accuracy: 1.0000 - val_loss: 0.1919 - val_accuracy: 0.9818\n",
            "Epoch 44/50\n",
            "4/4 [==============================] - 9s 2s/step - loss: 9.4900e-06 - accuracy: 1.0000 - val_loss: 0.1925 - val_accuracy: 0.9818\n",
            "Epoch 45/50\n",
            "4/4 [==============================] - 8s 2s/step - loss: 9.0750e-06 - accuracy: 1.0000 - val_loss: 0.1942 - val_accuracy: 0.9818\n",
            "Epoch 46/50\n",
            "4/4 [==============================] - 8s 2s/step - loss: 8.5235e-06 - accuracy: 1.0000 - val_loss: 0.1957 - val_accuracy: 0.9818\n",
            "Epoch 47/50\n",
            "4/4 [==============================] - 8s 2s/step - loss: 8.2483e-06 - accuracy: 1.0000 - val_loss: 0.1988 - val_accuracy: 0.9636\n",
            "Epoch 48/50\n",
            "4/4 [==============================] - 8s 2s/step - loss: 7.6730e-06 - accuracy: 1.0000 - val_loss: 0.2007 - val_accuracy: 0.9636\n",
            "Epoch 49/50\n",
            "4/4 [==============================] - 8s 2s/step - loss: 7.3220e-06 - accuracy: 1.0000 - val_loss: 0.2025 - val_accuracy: 0.9636\n",
            "Epoch 50/50\n",
            "4/4 [==============================] - 8s 2s/step - loss: 7.0153e-06 - accuracy: 1.0000 - val_loss: 0.2049 - val_accuracy: 0.9636\n"
          ]
        },
        {
          "output_type": "execute_result",
          "data": {
            "text/plain": [
              "<keras.callbacks.History at 0x7fb676c155d0>"
            ]
          },
          "metadata": {},
          "execution_count": 44
        }
      ]
    }
  ]
}