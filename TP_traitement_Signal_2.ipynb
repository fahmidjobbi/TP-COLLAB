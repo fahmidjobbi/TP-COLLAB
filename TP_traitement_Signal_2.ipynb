{
  "nbformat": 4,
  "nbformat_minor": 0,
  "metadata": {
    "colab": {
      "name": "TP traitement Signal 2.ipynb",
      "provenance": [],
      "collapsed_sections": [],
      "authorship_tag": "ABX9TyMl2+RHGmGQiQ6fVX8lrSKF",
      "include_colab_link": true
    },
    "kernelspec": {
      "name": "python3",
      "display_name": "Python 3"
    },
    "language_info": {
      "name": "python"
    }
  },
  "cells": [
    {
      "cell_type": "markdown",
      "metadata": {
        "id": "view-in-github",
        "colab_type": "text"
      },
      "source": [
        "<a href=\"https://colab.research.google.com/github/fahmidjobbi/TP-COLLAB/blob/main/TP_traitement_Signal_2.ipynb\" target=\"_parent\"><img src=\"https://colab.research.google.com/assets/colab-badge.svg\" alt=\"Open In Colab\"/></a>"
      ]
    },
    {
      "cell_type": "markdown",
      "source": [
        "Tp 4 traitement de signal "
      ],
      "metadata": {
        "id": "nUu8JQQ_Ibvy"
      }
    },
    {
      "cell_type": "code",
      "execution_count": null,
      "metadata": {
        "colab": {
          "base_uri": "https://localhost:8080/",
          "height": 1000
        },
        "id": "Lf-BA2aIIaNa",
        "outputId": "eddf79eb-1e42-45cd-bc3e-a6b04badc305"
      },
      "outputs": [
        {
          "output_type": "stream",
          "name": "stdout",
          "text": [
            "\u001b[H\u001b[2J"
          ]
        },
        {
          "output_type": "stream",
          "name": "stderr",
          "text": [
            "/usr/local/lib/python3.7/dist-packages/ipykernel_launcher.py:14: UserWarning: In Matplotlib 3.3 individual lines on a stem plot will be added as a LineCollection instead of individual lines. This significantly improves the performance of a stem plot. To remove this warning and switch to the new behaviour, set the \"use_line_collection\" keyword argument to True.\n",
            "  \n",
            "/usr/local/lib/python3.7/dist-packages/ipykernel_launcher.py:22: UserWarning: In Matplotlib 3.3 individual lines on a stem plot will be added as a LineCollection instead of individual lines. This significantly improves the performance of a stem plot. To remove this warning and switch to the new behaviour, set the \"use_line_collection\" keyword argument to True.\n",
            "/usr/local/lib/python3.7/dist-packages/ipykernel_launcher.py:30: UserWarning: In Matplotlib 3.3 individual lines on a stem plot will be added as a LineCollection instead of individual lines. This significantly improves the performance of a stem plot. To remove this warning and switch to the new behaviour, set the \"use_line_collection\" keyword argument to True.\n",
            "/usr/local/lib/python3.7/dist-packages/ipykernel_launcher.py:36: UserWarning: In Matplotlib 3.3 individual lines on a stem plot will be added as a LineCollection instead of individual lines. This significantly improves the performance of a stem plot. To remove this warning and switch to the new behaviour, set the \"use_line_collection\" keyword argument to True.\n"
          ]
        },
        {
          "output_type": "display_data",
          "data": {
            "image/png": "[encoded data removed]",
            "text/plain": [
              "<Figure size 432x288 with 1 Axes>"
            ]
          },
          "metadata": {
            "needs_background": "light"
          }
        },
        {
          "output_type": "display_data",
          "data": {
            "image/png": "[encoded data removed]",
            "text/plain": [
              "<Figure size 432x288 with 1 Axes>"
            ]
          },
          "metadata": {
            "needs_background": "light"
          }
        },
        {
          "output_type": "display_data",
          "data": {
            "image/png": "[encoded data removed]",
            "text/plain": [
              "<Figure size 432x288 with 1 Axes>"
            ]
          },
          "metadata": {
            "needs_background": "light"
          }
        },
        {
          "output_type": "display_data",
          "data": {
            "image/png": "[encoded data removed]",
            "text/plain": [
              "<Figure size 432x288 with 1 Axes>"
            ]
          },
          "metadata": {
            "needs_background": "light"
          }
        }
      ],
      "source": [
        "from IPython import get_ipython\n",
        "get_ipython().magic('reset -sf')\n",
        "get_ipython().magic('clear')\n",
        "\n",
        "import numpy as np\n",
        "import matplotlib.pyplot as plt\n",
        "#---------------------App1 convolution rect10(k)*rect10(k) ---------------------------\n",
        "x=np.ones(10);\n",
        "h=x;\n",
        "y=np.convolve(x,h);\n",
        "N=len(x)+len(h)-1\n",
        "k=np.arange(0,N);\n",
        "plt.figure()\n",
        "plt.stem(k,y);\n",
        "#---------------------App2/a convolution rect10(k)*d(k)-------------------------\n",
        "x=np.ones(10);\n",
        "h=np.ones(1);\n",
        "y=np.convolve(x,h);\n",
        "N=len(x)+len(h)-1\n",
        "k=np.arange(0,N);\n",
        "plt.figure()\n",
        "plt.stem(k,y);\n",
        "#---------------------App2/b convolution rect10(k)*d(k-2)-------------------------    \n",
        "x=np.ones(10);\n",
        "h=np.array([0,0,1]);\n",
        "y=np.convolve(x,h);\n",
        "N=len(x)+len(h)-1\n",
        "k=np.arange(0,N);\n",
        "plt.figure()\n",
        "plt.stem(k,y);\n",
        "#---------------------App3 auto-correlation rect10(k)*rect10(k) ----------------\n",
        "x=np.ones(10);\n",
        "cx=np.correlate(x, x, mode='full');\n",
        "k=np.arange(-9,10);\n",
        "plt.figure()\n",
        "plt.stem(k,cx);\n",
        "e0=np.sum(x**2)\n",
        "e1=cx[9]\n",
        "X=np.fft.fftshift(np.abs(np.fft.fft(x)));\n",
        "Sx=X**2\n",
        "N=len(x);\n",
        "e3=np.sum(X**2)/N\n"
      ]
    },
    {
      "cell_type": "code",
      "source": [
        ""
      ],
      "metadata": {
        "id": "N3HNvF2QXiZQ"
      },
      "execution_count": null,
      "outputs": []
    },
    {
      "cell_type": "code",
      "source": [
        "from IPython import get_ipython\n",
        "get_ipython().magic('reset -sf')\n",
        "get_ipython().magic('clear')\n",
        "\n",
        "import numpy as np\n",
        "import matplotlib.pyplot as plt"
      ],
      "metadata": {
        "colab": {
          "base_uri": "https://localhost:8080/"
        },
        "id": "VO1P2GshIxKJ",
        "outputId": "ab239507-d357-4c50-fe1b-1a1db2cee993"
      },
      "execution_count": null,
      "outputs": [
        {
          "output_type": "stream",
          "name": "stdout",
          "text": [
            "\u001b[H\u001b[2J"
          ]
        }
      ]
    }
  ]
}