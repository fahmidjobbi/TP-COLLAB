{
  "nbformat": 4,
  "nbformat_minor": 0,
  "metadata": {
    "colab": {
      "name": "Tp 2 sc 2 Regression.ipynb",
      "provenance": [],
      "collapsed_sections": [],
      "authorship_tag": "ABX9TyPH+yavkN39IeK8cSv9zChU",
      "include_colab_link": true
    },
    "kernelspec": {
      "name": "python3",
      "display_name": "Python 3"
    },
    "language_info": {
      "name": "python"
    }
  },
  "cells": [
    {
      "cell_type": "markdown",
      "metadata": {
        "id": "view-in-github",
        "colab_type": "text"
      },
      "source": [
        "<a href=\"https://colab.research.google.com/github/fahmidjobbi/TP-COLLAB/blob/main/Tp_2_sc_2_Regression.ipynb\" target=\"_parent\"><img src=\"https://colab.research.google.com/assets/colab-badge.svg\" alt=\"Open In Colab\"/></a>"
      ]
    },
    {
      "cell_type": "code",
      "execution_count": null,
      "metadata": {
        "colab": {
          "base_uri": "https://localhost:8080/"
        },
        "id": "vOBCrukfVRAv",
        "outputId": "e5b40ebb-d97a-4f4e-d868-865f624b6a84"
      },
      "outputs": [
        {
          "output_type": "stream",
          "name": "stdout",
          "text": [
            "     Home   Price  SqFt  Bedrooms  Bathrooms  Offers Brick Neighborhood\n",
            "0       1  114300  1790         2          2       2    No         East\n",
            "1       2  114200  2030         4          2       3    No         East\n",
            "2       3  114800  1740         3          2       1    No         East\n",
            "3       4   94700  1980         3          2       3    No         East\n",
            "4       5  119800  2130         3          3       3    No         East\n",
            "..    ...     ...   ...       ...        ...     ...   ...          ...\n",
            "123   124  119700  1900         3          3       3   Yes         East\n",
            "124   125  147900  2160         4          3       3   Yes         East\n",
            "125   126  113500  2070         2          2       2    No        North\n",
            "126   127  149900  2020         3          3       1    No         West\n",
            "127   128  124600  2250         3          3       4    No        North\n",
            "\n",
            "[128 rows x 8 columns]\n"
          ]
        }
      ],
      "source": [
        "import pandas as pd\n",
        "import numpy as np\n",
        "dataset = pd.read_csv('/content/house-prices.csv')\n",
        "print(dataset)\n"
      ]
    },
    {
      "cell_type": "code",
      "source": [
        "x=np.array(dataset['SqFt'])\n",
        "y=np.array(dataset['Price'])\n",
        "x1=x.reshape(-1,1)\n",
        "y1=y.reshape(-1,1)\n",
        "from sklearn.linear_model import LinearRegression\n",
        "model=LinearRegression()\n",
        "model.fit(x1,y1)\n",
        "a=model.coef_\n",
        "b=model.intercept_\n",
        "label=model.predict(x1)\n",
        "from sklearn.metrics import mean_squared_error\n",
        "mse=mean_squared_error(y1, label)\n",
        "import math\n",
        "print('RMSE', math.sqrt(mse))\n",
        "import pandas as pd\n",
        "y=pd.DataFrame(y)\n",
        "y.describe()\n",
        "from sklearn.metrics import explained_variance_score\n",
        "EV=explained_variance_score(y,label)\n",
        "print(\"Explained variance %f\" %(EV))"
      ],
      "metadata": {
        "colab": {
          "base_uri": "https://localhost:8080/"
        },
        "id": "CwhMShzSVwbB",
        "outputId": "baecd1f0-b5b4-40f1-e65e-2216b69a86dd"
      },
      "execution_count": null,
      "outputs": [
        {
          "output_type": "stream",
          "name": "stdout",
          "text": [
            "RMSE 22299.25223701427\n",
            "Explained variance 0.305789\n"
          ]
        }
      ]
    },
    {
      "cell_type": "code",
      "source": [
        "import time \n",
        "debut=time.time()\n",
        "model.fit(x1,y1)\n",
        "Temps=time.time()-debut\n",
        "print(Temps)"
      ],
      "metadata": {
        "colab": {
          "base_uri": "https://localhost:8080/"
        },
        "id": "haF42uAox8kG",
        "outputId": "2fb6f5b5-ed8e-42e3-cd32-4e3a04c2279b"
      },
      "execution_count": null,
      "outputs": [
        {
          "output_type": "stream",
          "name": "stdout",
          "text": [
            "0.0015039443969726562\n"
          ]
        }
      ]
    },
    {
      "cell_type": "code",
      "source": [
        "import matplotlib.pyplot as plt\n",
        "axes=plt.axes()\n",
        "axes.grid()\n",
        "plt.scatter(x1,y1,c='r')\n",
        "plt.plot(x1,label,c='y')\n",
        "plt.title('droite de regression')\n",
        "plt.xlabel('sqt')\n",
        "plt.ylabel('price')\n",
        "plt.show()\n"
      ],
      "metadata": {
        "colab": {
          "base_uri": "https://localhost:8080/",
          "height": 295
        },
        "id": "bS0alE3QyR_S",
        "outputId": "80436020-3c49-40d5-d9f7-0cc54a811482"
      },
      "execution_count": null,
      "outputs": [
        {
          "output_type": "display_data",
          "data": {
            "image/png": "[encoded data removed]",
            "text/plain": [
              "<Figure size 432x288 with 1 Axes>"
            ]
          },
          "metadata": {
            "needs_background": "light"
          }
        }
      ]
    },
    {
      "cell_type": "code",
      "source": [
        "label1=model.predict([[1000]])\n",
        "print(label1)"
      ],
      "metadata": {
        "colab": {
          "base_uri": "https://localhost:8080/"
        },
        "id": "LLSvbeHk2jS5",
        "outputId": "7be539c6-5114-4c91-c31f-fcbaf3be554a"
      },
      "execution_count": null,
      "outputs": [
        {
          "output_type": "stream",
          "name": "stdout",
          "text": [
            "[[60135.18833376]]\n"
          ]
        }
      ]
    },
    {
      "cell_type": "code",
      "source": [
        "price=dataset['Price']\n",
        "Y=np.array(price).reshape(-1,1)\n",
        "\n",
        " \n",
        "\n",
        "Data=dataset.drop(['Price','Brick','Neighborhood','Home'],axis=1)\n",
        "\n",
        " \n",
        "\n",
        "from sklearn.preprocessing import LabelEncoder\n",
        "X1=dataset['Brick']\n",
        "le = LabelEncoder()\n",
        "X1New = le.fit_transform(X1) \n",
        "X1New = X1New.reshape(-1,1)\n",
        "\n",
        " \n",
        "\n",
        "X2=dataset['Neighborhood']\n",
        "le1 = LabelEncoder()\n",
        "X2New = le1.fit_transform(X2) \n",
        "X2New = X2New.reshape(-1,1)\n",
        "newdata=np.concatenate((Data,X1New,X2New),axis=1)\n"
      ],
      "metadata": {
        "id": "i8h0anlc9MBc",
        "outputId": "2d954974-ea37-4ae9-a05b-6c6b0fb5b716",
        "colab": {
          "base_uri": "https://localhost:8080/",
          "height": 235
        }
      },
      "execution_count": null,
      "outputs": [
        {
          "output_type": "error",
          "ename": "NameError",
          "evalue": "ignored",
          "traceback": [
            "\u001b[0;31m---------------------------------------------------------------------------\u001b[0m",
            "\u001b[0;31mNameError\u001b[0m                                 Traceback (most recent call last)",
            "\u001b[0;32m<ipython-input-1-bac0d5599731>\u001b[0m in \u001b[0;36m<module>\u001b[0;34m()\u001b[0m\n\u001b[0;32m----> 1\u001b[0;31m \u001b[0mprice\u001b[0m\u001b[0;34m=\u001b[0m\u001b[0mdataset\u001b[0m\u001b[0;34m[\u001b[0m\u001b[0;34m'Price'\u001b[0m\u001b[0;34m]\u001b[0m\u001b[0;34m\u001b[0m\u001b[0;34m\u001b[0m\u001b[0m\n\u001b[0m\u001b[1;32m      2\u001b[0m \u001b[0mY\u001b[0m\u001b[0;34m=\u001b[0m\u001b[0mnp\u001b[0m\u001b[0;34m.\u001b[0m\u001b[0marray\u001b[0m\u001b[0;34m(\u001b[0m\u001b[0mprice\u001b[0m\u001b[0;34m)\u001b[0m\u001b[0;34m.\u001b[0m\u001b[0mreshape\u001b[0m\u001b[0;34m(\u001b[0m\u001b[0;34m-\u001b[0m\u001b[0;36m1\u001b[0m\u001b[0;34m,\u001b[0m\u001b[0;36m1\u001b[0m\u001b[0;34m)\u001b[0m\u001b[0;34m\u001b[0m\u001b[0;34m\u001b[0m\u001b[0m\n\u001b[1;32m      3\u001b[0m \u001b[0;34m\u001b[0m\u001b[0m\n\u001b[1;32m      4\u001b[0m \u001b[0;34m\u001b[0m\u001b[0m\n\u001b[1;32m      5\u001b[0m \u001b[0;34m\u001b[0m\u001b[0m\n",
            "\u001b[0;31mNameError\u001b[0m: name 'dataset' is not defined"
          ]
        }
      ]
    },
    {
      "cell_type": "code",
      "source": [
        "from sklearn.linear_model import LinearRegression\n",
        "model=LinearRegression()\n",
        "model.fit(newdata,Y)\n",
        "a=model.coef_\n",
        "b=model.intercept_\n",
        "label2=model.predict(newdata)\n",
        "from sklearn.metrics import mean_squared_error\n",
        "mse=mean_squared_error(Y, label2)\n",
        "import math\n",
        "print('RMSE', math.sqrt(mse))\n",
        "import pandas as pd\n",
        "y=pd.DataFrame(y)\n",
        "y.describe()\n",
        "from sklearn.metrics import explained_variance_score\n",
        "EV2=explained_variance_score(y,label2)\n",
        "print(\"Explained variance %f\" %(EV2))\n",
        "\n",
        "\n"
      ],
      "metadata": {
        "colab": {
          "base_uri": "https://localhost:8080/"
        },
        "id": "6RSITFwuGecu",
        "outputId": "ae9635a2-8d82-4789-9f0c-6cd028f3fc9e"
      },
      "execution_count": null,
      "outputs": [
        {
          "output_type": "stream",
          "name": "stdout",
          "text": [
            "RMSE 10276.896042002407\n",
            "Explained variance 0.852553\n"
          ]
        }
      ]
    }
  ]
}