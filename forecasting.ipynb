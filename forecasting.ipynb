{
  "nbformat": 4,
  "nbformat_minor": 0,
  "metadata": {
    "colab": {
      "provenance": [],
      "collapsed_sections": [],
      "mount_file_id": "1UpfXRGMMYr78vIoOoEOE3uUFfN3gTaVf",
      "authorship_tag": "ABX9TyNTV4KSwGXIDbOIMwWXGLim",
      "include_colab_link": true
    },
    "kernelspec": {
      "name": "python3",
      "display_name": "Python 3"
    },
    "language_info": {
      "name": "python"
    }
  },
  "cells": [
    {
      "cell_type": "markdown",
      "metadata": {
        "id": "view-in-github",
        "colab_type": "text"
      },
      "source": [
        "<a href=\"https://colab.research.google.com/github/fahmidjobbi/TP-COLLAB/blob/main/forecasting.ipynb\" target=\"_parent\"><img src=\"https://colab.research.google.com/assets/colab-badge.svg\" alt=\"Open In Colab\"/></a>"
      ]
    },
    {
      "cell_type": "code",
      "execution_count": 2,
      "metadata": {
        "colab": {
          "base_uri": "https://localhost:8080/"
        },
        "id": "sEjfgHbwS7wV",
        "outputId": "4a561a90-72a2-4307-9de3-d7e6decd34eb"
      },
      "outputs": [
        {
          "output_type": "stream",
          "name": "stdout",
          "text": [
            "       Month  Passengers\n",
            "0    1949-01         112\n",
            "1    1949-02         118\n",
            "2    1949-03         132\n",
            "3    1949-04         129\n",
            "4    1949-05         121\n",
            "..       ...         ...\n",
            "139  1960-08         606\n",
            "140  1960-09         508\n",
            "141  1960-10         461\n",
            "142  1960-11         390\n",
            "143  1960-12         432\n",
            "\n",
            "[144 rows x 2 columns]\n"
          ]
        }
      ],
      "source": [
        "import pandas as pd\n",
        "import numpy as np\n",
        "url='/content/drive/MyDrive/air122.csv'\n",
        "dataset = pd.read_csv(url)\n",
        "print(dataset)"
      ]
    },
    {
      "cell_type": "code",
      "source": [
        "dataset.drop('Month', inplace=True, axis=1)\n",
        "print(dataset)"
      ],
      "metadata": {
        "colab": {
          "base_uri": "https://localhost:8080/"
        },
        "id": "OTVHBUz0TcUb",
        "outputId": "dce104ba-4af5-49dc-ef0f-cde55d2cdcea"
      },
      "execution_count": 3,
      "outputs": [
        {
          "output_type": "stream",
          "name": "stdout",
          "text": [
            "     Passengers\n",
            "0           112\n",
            "1           118\n",
            "2           132\n",
            "3           129\n",
            "4           121\n",
            "..          ...\n",
            "139         606\n",
            "140         508\n",
            "141         461\n",
            "142         390\n",
            "143         432\n",
            "\n",
            "[144 rows x 1 columns]\n"
          ]
        }
      ]
    },
    {
      "cell_type": "code",
      "source": [
        "from keras.preprocessing.text import Tokenizer\n",
        "import matplotlib.pyplot as plt\n",
        "from PIL import Image\n",
        "from numpy import array\n",
        "import matplotlib.pyplot as plt\n",
        "import pandas as pd\n",
        "import numpy as np\n",
        "import tensorflow as tf\n",
        "from keras.preprocessing import sequence\n",
        "from sklearn.model_selection import train_test_split\n",
        "from keras.models import Sequential\n",
        "from tensorflow.keras.utils import to_categorical\n",
        "from keras.layers import LSTM,Dense, Dropout, Activation, Flatten,Embedding,Input\n",
        "from keras import losses\n",
        "from tensorflow.keras.optimizers import RMSprop\n",
        "from keras.callbacks import ModelCheckpoint, EarlyStopping\n",
        "from keras.layers import Bidirectional, GRU, RepeatVector,  TimeDistributed,BatchNormalization"
      ],
      "metadata": {
        "id": "zkO00dCzUnb7"
      },
      "execution_count": 4,
      "outputs": []
    },
    {
      "cell_type": "code",
      "source": [
        "from sklearn.preprocessing import MinMaxScaler\n",
        "scaler = MinMaxScaler(feature_range=(0, 1))\n",
        "dataset = scaler.fit_transform(dataset)"
      ],
      "metadata": {
        "id": "dJpaUQ0sgcKN"
      },
      "execution_count": 5,
      "outputs": []
    },
    {
      "cell_type": "code",
      "source": [
        "X=dataset[:-1]\n",
        "Y=dataset[1:]\n",
        "\n"
      ],
      "metadata": {
        "id": "OV8kHRarUuwi"
      },
      "execution_count": 6,
      "outputs": []
    },
    {
      "cell_type": "code",
      "source": [
        "train_size = int(len(dataset) * 0.70)\n",
        "test_size = len(dataset) - train_size\n",
        "train = dataset[0:train_size,:]\n",
        "test = dataset[train_size:len(dataset),:]\n",
        "print(\"train size: {}, test size: {} \".format(len(train), len(test)))"
      ],
      "metadata": {
        "colab": {
          "base_uri": "https://localhost:8080/"
        },
        "id": "sqNI5u4rXa0p",
        "outputId": "1c229836-f6b3-4f40-f7d9-9785ea8f18ef"
      },
      "execution_count": 23,
      "outputs": [
        {
          "output_type": "stream",
          "name": "stdout",
          "text": [
            "train size: 100, test size: 44 \n"
          ]
        }
      ]
    },
    {
      "cell_type": "code",
      "source": [
        "X_train,X_test,Y_train,Y_test=train_test_split(X,Y,test_size=0.33,random_state=0)"
      ],
      "metadata": {
        "id": "8yK3f-fsV441"
      },
      "execution_count": 24,
      "outputs": []
    },
    {
      "cell_type": "code",
      "source": [
        "\n",
        "X_train=np.array(X_train).reshape(X_train.shape[0],1,1)\n",
        "testX = np.reshape(X_test, (X_test.shape[0],1, 1))"
      ],
      "metadata": {
        "id": "7eKncngfdZ8q"
      },
      "execution_count": 26,
      "outputs": []
    },
    {
      "cell_type": "code",
      "source": [
        "model = Sequential()\n",
        "model.add(LSTM(2,input_shape=(1,1)))\n",
        "model.add(Dense(1,activation='sigmoid'))\n",
        "model.compile(loss='mean_squared_error', optimizer='adam', metrics=['mae'])\n",
        "model.fit(X_train,Y_train,epochs=100,batch_size=1)\n",
        "accr = model.evaluate(X,Y)\n",
        "print('Test set\\n loss: {:0.3f}\\n mae:{:0.3f}'.format(accr[0], accr[1]))"
      ],
      "metadata": {
        "colab": {
          "base_uri": "https://localhost:8080/"
        },
        "id": "IJDB9D24WK9k",
        "outputId": "3cd22fcb-7269-47ca-a6da-d49b0a1c788c"
      },
      "execution_count": 28,
      "outputs": [
        {
          "output_type": "stream",
          "name": "stdout",
          "text": [
            "Epoch 1/100\n",
            "95/95 [==============================] - 3s 3ms/step - loss: 0.0755 - mae: 0.2315\n",
            "Epoch 2/100\n",
            "95/95 [==============================] - 0s 3ms/step - loss: 0.0708 - mae: 0.2258\n",
            "Epoch 3/100\n",
            "95/95 [==============================] - 0s 3ms/step - loss: 0.0667 - mae: 0.2206\n",
            "Epoch 4/100\n",
            "95/95 [==============================] - 0s 3ms/step - loss: 0.0631 - mae: 0.2151\n",
            "Epoch 5/100\n",
            "95/95 [==============================] - 0s 3ms/step - loss: 0.0600 - mae: 0.2101\n",
            "Epoch 6/100\n",
            "95/95 [==============================] - 0s 2ms/step - loss: 0.0569 - mae: 0.2044\n",
            "Epoch 7/100\n",
            "95/95 [==============================] - 0s 2ms/step - loss: 0.0540 - mae: 0.1990\n",
            "Epoch 8/100\n",
            "95/95 [==============================] - 0s 2ms/step - loss: 0.0512 - mae: 0.1933\n",
            "Epoch 9/100\n",
            "95/95 [==============================] - 0s 2ms/step - loss: 0.0485 - mae: 0.1881\n",
            "Epoch 10/100\n",
            "95/95 [==============================] - 0s 2ms/step - loss: 0.0457 - mae: 0.1824\n",
            "Epoch 11/100\n",
            "95/95 [==============================] - 0s 2ms/step - loss: 0.0430 - mae: 0.1763\n",
            "Epoch 12/100\n",
            "95/95 [==============================] - 0s 2ms/step - loss: 0.0403 - mae: 0.1701\n",
            "Epoch 13/100\n",
            "95/95 [==============================] - 0s 2ms/step - loss: 0.0376 - mae: 0.1640\n",
            "Epoch 14/100\n",
            "95/95 [==============================] - 0s 2ms/step - loss: 0.0349 - mae: 0.1573\n",
            "Epoch 15/100\n",
            "95/95 [==============================] - 0s 2ms/step - loss: 0.0324 - mae: 0.1511\n",
            "Epoch 16/100\n",
            "95/95 [==============================] - 0s 2ms/step - loss: 0.0298 - mae: 0.1445\n",
            "Epoch 17/100\n",
            "95/95 [==============================] - 0s 2ms/step - loss: 0.0275 - mae: 0.1379\n",
            "Epoch 18/100\n",
            "95/95 [==============================] - 0s 2ms/step - loss: 0.0253 - mae: 0.1317\n",
            "Epoch 19/100\n",
            "95/95 [==============================] - 0s 2ms/step - loss: 0.0232 - mae: 0.1256\n",
            "Epoch 20/100\n",
            "95/95 [==============================] - 0s 2ms/step - loss: 0.0214 - mae: 0.1200\n",
            "Epoch 21/100\n",
            "95/95 [==============================] - 0s 3ms/step - loss: 0.0196 - mae: 0.1141\n",
            "Epoch 22/100\n",
            "95/95 [==============================] - 0s 2ms/step - loss: 0.0180 - mae: 0.1089\n",
            "Epoch 23/100\n",
            "95/95 [==============================] - 0s 2ms/step - loss: 0.0166 - mae: 0.1037\n",
            "Epoch 24/100\n",
            "95/95 [==============================] - 0s 3ms/step - loss: 0.0153 - mae: 0.0990\n",
            "Epoch 25/100\n",
            "95/95 [==============================] - 0s 3ms/step - loss: 0.0142 - mae: 0.0955\n",
            "Epoch 26/100\n",
            "95/95 [==============================] - 0s 3ms/step - loss: 0.0132 - mae: 0.0919\n",
            "Epoch 27/100\n",
            "95/95 [==============================] - 0s 2ms/step - loss: 0.0123 - mae: 0.0887\n",
            "Epoch 28/100\n",
            "95/95 [==============================] - 0s 3ms/step - loss: 0.0115 - mae: 0.0859\n",
            "Epoch 29/100\n",
            "95/95 [==============================] - 0s 2ms/step - loss: 0.0108 - mae: 0.0834\n",
            "Epoch 30/100\n",
            "95/95 [==============================] - 0s 3ms/step - loss: 0.0102 - mae: 0.0808\n",
            "Epoch 31/100\n",
            "95/95 [==============================] - 0s 3ms/step - loss: 0.0096 - mae: 0.0782\n",
            "Epoch 32/100\n",
            "95/95 [==============================] - 0s 2ms/step - loss: 0.0091 - mae: 0.0768\n",
            "Epoch 33/100\n",
            "95/95 [==============================] - 0s 2ms/step - loss: 0.0086 - mae: 0.0748\n",
            "Epoch 34/100\n",
            "95/95 [==============================] - 0s 2ms/step - loss: 0.0083 - mae: 0.0736\n",
            "Epoch 35/100\n",
            "95/95 [==============================] - 0s 2ms/step - loss: 0.0079 - mae: 0.0721\n",
            "Epoch 36/100\n",
            "95/95 [==============================] - 0s 2ms/step - loss: 0.0077 - mae: 0.0709\n",
            "Epoch 37/100\n",
            "95/95 [==============================] - 0s 2ms/step - loss: 0.0074 - mae: 0.0699\n",
            "Epoch 38/100\n",
            "95/95 [==============================] - 0s 2ms/step - loss: 0.0072 - mae: 0.0690\n",
            "Epoch 39/100\n",
            "95/95 [==============================] - 0s 3ms/step - loss: 0.0070 - mae: 0.0679\n",
            "Epoch 40/100\n",
            "95/95 [==============================] - 0s 2ms/step - loss: 0.0069 - mae: 0.0672\n",
            "Epoch 41/100\n",
            "95/95 [==============================] - 0s 2ms/step - loss: 0.0067 - mae: 0.0665\n",
            "Epoch 42/100\n",
            "95/95 [==============================] - 0s 2ms/step - loss: 0.0066 - mae: 0.0658\n",
            "Epoch 43/100\n",
            "95/95 [==============================] - 0s 2ms/step - loss: 0.0065 - mae: 0.0654\n",
            "Epoch 44/100\n",
            "95/95 [==============================] - 0s 3ms/step - loss: 0.0064 - mae: 0.0650\n",
            "Epoch 45/100\n",
            "95/95 [==============================] - 0s 2ms/step - loss: 0.0064 - mae: 0.0646\n",
            "Epoch 46/100\n",
            "95/95 [==============================] - 0s 3ms/step - loss: 0.0062 - mae: 0.0641\n",
            "Epoch 47/100\n",
            "95/95 [==============================] - 0s 2ms/step - loss: 0.0062 - mae: 0.0638\n",
            "Epoch 48/100\n",
            "95/95 [==============================] - 0s 3ms/step - loss: 0.0061 - mae: 0.0633\n",
            "Epoch 49/100\n",
            "95/95 [==============================] - 0s 2ms/step - loss: 0.0061 - mae: 0.0631\n",
            "Epoch 50/100\n",
            "95/95 [==============================] - 0s 2ms/step - loss: 0.0061 - mae: 0.0627\n",
            "Epoch 51/100\n",
            "95/95 [==============================] - 0s 2ms/step - loss: 0.0060 - mae: 0.0626\n",
            "Epoch 52/100\n",
            "95/95 [==============================] - 0s 2ms/step - loss: 0.0060 - mae: 0.0628\n",
            "Epoch 53/100\n",
            "95/95 [==============================] - 0s 2ms/step - loss: 0.0060 - mae: 0.0624\n",
            "Epoch 54/100\n",
            "95/95 [==============================] - 0s 2ms/step - loss: 0.0059 - mae: 0.0621\n",
            "Epoch 55/100\n",
            "95/95 [==============================] - 0s 2ms/step - loss: 0.0059 - mae: 0.0619\n",
            "Epoch 56/100\n",
            "95/95 [==============================] - 0s 3ms/step - loss: 0.0059 - mae: 0.0617\n",
            "Epoch 57/100\n",
            "95/95 [==============================] - 0s 3ms/step - loss: 0.0059 - mae: 0.0616\n",
            "Epoch 58/100\n",
            "95/95 [==============================] - 0s 3ms/step - loss: 0.0059 - mae: 0.0615\n",
            "Epoch 59/100\n",
            "95/95 [==============================] - 0s 2ms/step - loss: 0.0059 - mae: 0.0615\n",
            "Epoch 60/100\n",
            "95/95 [==============================] - 0s 3ms/step - loss: 0.0059 - mae: 0.0613\n",
            "Epoch 61/100\n",
            "95/95 [==============================] - 0s 2ms/step - loss: 0.0059 - mae: 0.0614\n",
            "Epoch 62/100\n",
            "95/95 [==============================] - 0s 2ms/step - loss: 0.0059 - mae: 0.0613\n",
            "Epoch 63/100\n",
            "95/95 [==============================] - 0s 2ms/step - loss: 0.0058 - mae: 0.0612\n",
            "Epoch 64/100\n",
            "95/95 [==============================] - 0s 2ms/step - loss: 0.0058 - mae: 0.0611\n",
            "Epoch 65/100\n",
            "95/95 [==============================] - 0s 2ms/step - loss: 0.0059 - mae: 0.0614\n",
            "Epoch 66/100\n",
            "95/95 [==============================] - 0s 3ms/step - loss: 0.0058 - mae: 0.0612\n",
            "Epoch 67/100\n",
            "95/95 [==============================] - 0s 3ms/step - loss: 0.0058 - mae: 0.0610\n",
            "Epoch 68/100\n",
            "95/95 [==============================] - 0s 3ms/step - loss: 0.0058 - mae: 0.0610\n",
            "Epoch 69/100\n",
            "95/95 [==============================] - 0s 3ms/step - loss: 0.0058 - mae: 0.0609\n",
            "Epoch 70/100\n",
            "95/95 [==============================] - 0s 2ms/step - loss: 0.0058 - mae: 0.0609\n",
            "Epoch 71/100\n",
            "95/95 [==============================] - 0s 3ms/step - loss: 0.0058 - mae: 0.0609\n",
            "Epoch 72/100\n",
            "95/95 [==============================] - 0s 3ms/step - loss: 0.0058 - mae: 0.0610\n",
            "Epoch 73/100\n",
            "95/95 [==============================] - 0s 3ms/step - loss: 0.0058 - mae: 0.0606\n",
            "Epoch 74/100\n",
            "95/95 [==============================] - 0s 2ms/step - loss: 0.0058 - mae: 0.0609\n",
            "Epoch 75/100\n",
            "95/95 [==============================] - 0s 2ms/step - loss: 0.0058 - mae: 0.0607\n",
            "Epoch 76/100\n",
            "95/95 [==============================] - 0s 2ms/step - loss: 0.0058 - mae: 0.0607\n",
            "Epoch 77/100\n",
            "95/95 [==============================] - 0s 2ms/step - loss: 0.0058 - mae: 0.0606\n",
            "Epoch 78/100\n",
            "95/95 [==============================] - 0s 2ms/step - loss: 0.0058 - mae: 0.0606\n",
            "Epoch 79/100\n",
            "95/95 [==============================] - 0s 2ms/step - loss: 0.0058 - mae: 0.0608\n",
            "Epoch 80/100\n",
            "95/95 [==============================] - 0s 2ms/step - loss: 0.0058 - mae: 0.0608\n",
            "Epoch 81/100\n",
            "95/95 [==============================] - 0s 2ms/step - loss: 0.0058 - mae: 0.0604\n",
            "Epoch 82/100\n",
            "95/95 [==============================] - 0s 2ms/step - loss: 0.0058 - mae: 0.0606\n",
            "Epoch 83/100\n",
            "95/95 [==============================] - 0s 2ms/step - loss: 0.0058 - mae: 0.0610\n",
            "Epoch 84/100\n",
            "95/95 [==============================] - 0s 2ms/step - loss: 0.0058 - mae: 0.0604\n",
            "Epoch 85/100\n",
            "95/95 [==============================] - 0s 2ms/step - loss: 0.0058 - mae: 0.0604\n",
            "Epoch 86/100\n",
            "95/95 [==============================] - 0s 3ms/step - loss: 0.0058 - mae: 0.0603\n",
            "Epoch 87/100\n",
            "95/95 [==============================] - 0s 2ms/step - loss: 0.0057 - mae: 0.0605\n",
            "Epoch 88/100\n",
            "95/95 [==============================] - 0s 2ms/step - loss: 0.0058 - mae: 0.0605\n",
            "Epoch 89/100\n",
            "95/95 [==============================] - 0s 2ms/step - loss: 0.0057 - mae: 0.0604\n",
            "Epoch 90/100\n",
            "95/95 [==============================] - 0s 2ms/step - loss: 0.0058 - mae: 0.0602\n",
            "Epoch 91/100\n",
            "95/95 [==============================] - 0s 2ms/step - loss: 0.0058 - mae: 0.0606\n",
            "Epoch 92/100\n",
            "95/95 [==============================] - 0s 3ms/step - loss: 0.0057 - mae: 0.0603\n",
            "Epoch 93/100\n",
            "95/95 [==============================] - 0s 2ms/step - loss: 0.0058 - mae: 0.0607\n",
            "Epoch 94/100\n",
            "95/95 [==============================] - 0s 2ms/step - loss: 0.0058 - mae: 0.0602\n",
            "Epoch 95/100\n",
            "95/95 [==============================] - 0s 2ms/step - loss: 0.0058 - mae: 0.0610\n",
            "Epoch 96/100\n",
            "95/95 [==============================] - 0s 2ms/step - loss: 0.0057 - mae: 0.0603\n",
            "Epoch 97/100\n",
            "95/95 [==============================] - 0s 2ms/step - loss: 0.0058 - mae: 0.0602\n",
            "Epoch 98/100\n",
            "95/95 [==============================] - 0s 2ms/step - loss: 0.0057 - mae: 0.0604\n",
            "Epoch 99/100\n",
            "95/95 [==============================] - 0s 3ms/step - loss: 0.0057 - mae: 0.0604\n",
            "Epoch 100/100\n",
            "95/95 [==============================] - 0s 2ms/step - loss: 0.0057 - mae: 0.0602\n",
            "5/5 [==============================] - 1s 3ms/step - loss: 0.0049 - mae: 0.0556\n",
            "Test set\n",
            " loss: 0.005\n",
            " mae:0.056\n"
          ]
        }
      ]
    },
    {
      "cell_type": "code",
      "source": [
        "from sklearn.metrics import explained_variance_score\n",
        "\n",
        "Pred = model.predict(testX)\n",
        "print(explained_variance_score(Y_test, Pred))"
      ],
      "metadata": {
        "colab": {
          "base_uri": "https://localhost:8080/"
        },
        "id": "A0VrZQ0BWK26",
        "outputId": "2c4463f7-1200-4984-87ec-5ef26b92546d"
      },
      "execution_count": 29,
      "outputs": [
        {
          "output_type": "stream",
          "name": "stdout",
          "text": [
            "2/2 [==============================] - 0s 7ms/step\n",
            "0.9397836776250764\n"
          ]
        }
      ]
    },
    {
      "cell_type": "code",
      "source": [
        "from matplotlib import pyplot as plt\n",
        "plt.plot(Y_test,color='red',label='nombre de passager reel')\n",
        "plt.plot(Pred,color='blue',label='nombre de passager prévus')\n",
        "plt.title('les passagers prévus vs réels')\n",
        "plt.xlabel('temps')\n",
        "plt.ylabel('passagers')\n",
        "plt.legend()\n",
        "plt.show()"
      ],
      "metadata": {
        "colab": {
          "base_uri": "https://localhost:8080/",
          "height": 295
        },
        "id": "ykBJGUSuWvCw",
        "outputId": "3357ee5b-9e7e-4886-f355-26f1587f4fcd"
      },
      "execution_count": 30,
      "outputs": [
        {
          "output_type": "display_data",
          "data": {
            "text/plain": [
              "<Figure size 432x288 with 1 Axes>"
            ],
            "image/png": "[encoded data removed]"
          },
          "metadata": {
            "needs_background": "light"
          }
        }
      ]
    }
  ]
}