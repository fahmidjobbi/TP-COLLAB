{
  "nbformat": 4,
  "nbformat_minor": 0,
  "metadata": {
    "colab": {
      "provenance": [],
      "collapsed_sections": [],
      "authorship_tag": "ABX9TyNuYObNVKUoBYAlFO61Fxyt",
      "include_colab_link": true
    },
    "kernelspec": {
      "name": "python3",
      "display_name": "Python 3"
    },
    "language_info": {
      "name": "python"
    }
  },
  "cells": [
    {
      "cell_type": "markdown",
      "metadata": {
        "id": "view-in-github",
        "colab_type": "text"
      },
      "source": [
        "<a href=\"https://colab.research.google.com/github/fahmidjobbi/TP-COLLAB/blob/main/NextWordClasse.ipynb\" target=\"_parent\"><img src=\"https://colab.research.google.com/assets/colab-badge.svg\" alt=\"Open In Colab\"/></a>"
      ]
    },
    {
      "cell_type": "code",
      "source": [
        "pip install tf"
      ],
      "metadata": {
        "colab": {
          "base_uri": "https://localhost:8080/"
        },
        "id": "doNOyDWkW4MD",
        "outputId": "db292947-7a8a-4053-b12c-91e76a38f67b"
      },
      "execution_count": null,
      "outputs": [
        {
          "output_type": "stream",
          "name": "stdout",
          "text": [
            "Looking in indexes: https://pypi.org/simple, https://us-python.pkg.dev/colab-wheels/public/simple/\n",
            "Collecting tf\n",
            "  Downloading tf-1.0.0.tar.gz (620 bytes)\n",
            "Building wheels for collected packages: tf\n",
            "  Building wheel for tf (setup.py) ... \u001b[?25l\u001b[?25hdone\n",
            "  Created wheel for tf: filename=tf-1.0.0-py3-none-any.whl size=1285 sha256=7278a87330b719e40cc61a9852242fd47b4eef18be034407d213d2b77f82eac0\n",
            "  Stored in directory: /root/.cache/pip/wheels/db/c7/58/cca67875b41ff853d3fdaa20b54a780ef2e045fbcacaef1ee3\n",
            "Successfully built tf\n",
            "Installing collected packages: tf\n",
            "Successfully installed tf-1.0.0\n"
          ]
        }
      ]
    },
    {
      "cell_type": "code",
      "execution_count": null,
      "metadata": {
        "id": "iMPLJUV8WbZk"
      },
      "outputs": [],
      "source": [
        "from keras.preprocessing.text import Tokenizer\n",
        "import matplotlib.pyplot as plt\n",
        "from PIL import Image\n",
        "from numpy import array\n",
        "import matplotlib.pyplot as plt\n",
        "import pandas as pd\n",
        "import numpy as np\n",
        "import tensorflow as tf\n",
        "from keras.preprocessing import sequence\n",
        "from sklearn.model_selection import train_test_split\n",
        "from keras.models import Sequential\n",
        "from tensorflow.keras.utils import to_categorical\n",
        "from keras.layers import LSTM,Dense, Dropout, Activation, Flatten,Embedding,Input\n",
        "from keras import losses\n",
        "from tensorflow.keras.optimizers import RMSprop\n",
        "from keras.callbacks import ModelCheckpoint, EarlyStopping\n",
        "from keras.layers import Bidirectional, GRU, RepeatVector,  TimeDistributed,BatchNormalization"
      ]
    },
    {
      "cell_type": "code",
      "source": [
        "data=\"\"\"Artificial Intelligence (AI) is a technical science that studies and develops theories, methods, technologies, and applications for simulating and extending human intelligence. The purpose of AI is to enable machines to think like\n",
        "\n",
        "people and to make machines intelligent. Today, AI has become an interdisciplinary course that involves various fields.\"\"\"\n"
      ],
      "metadata": {
        "id": "WJIUeAIRWtVl"
      },
      "execution_count": null,
      "outputs": []
    },
    {
      "cell_type": "code",
      "source": [
        "tok=Tokenizer()\n",
        "tok.fit_on_texts([data])\n",
        "sequences=tok.texts_to_sequences([data])[0]\n",
        "\n",
        "X=sequences[:-1]\n",
        "Y=sequences[1:]\n",
        "word_nbr = len(tok.word_index)+1\n",
        "Y = to_categorical(Y,num_classes=word_nbr)\n",
        "X = np.array(X)\n",
        "# X_train,X_test,Y_train,Y_test=train_test_split(X,Y,test_size=0.33,random_state=0)\n",
        "\n",
        "\n",
        "\n",
        "\n"
      ],
      "metadata": {
        "id": "-MIu_0TuXMwU"
      },
      "execution_count": null,
      "outputs": []
    },
    {
      "cell_type": "code",
      "source": [
        "model = Sequential()\n",
        "model.add(Embedding(word_nbr,40,input_length =1))\n",
        "model.add(Bidirectional(LSTM(50)))\n",
        "model.add(Dense(word_nbr,activation='softmax'))\n",
        "model.compile(loss='categorical_crossentropy', optimizer='adam', metrics=['accuracy'])\n",
        "model.fit(X,Y,epochs=100)\n",
        "accr = model.evaluate(X,Y)\n",
        "print('Test set\\n loss: {:0.3f}\\n Accuracy:{:0.3f}'.format(accr[0], accr[1]))"
      ],
      "metadata": {
        "colab": {
          "base_uri": "https://localhost:8080/"
        },
        "id": "IZnkYAPgXXkh",
        "outputId": "0cce5a5c-3e67-46de-9f3a-bfc36a5a54b7"
      },
      "execution_count": null,
      "outputs": [
        {
          "output_type": "stream",
          "name": "stdout",
          "text": [
            "Epoch 1/100\n",
            "2/2 [==============================] - 3s 9ms/step - loss: 3.6885 - accuracy: 0.0408\n",
            "Epoch 2/100\n",
            "2/2 [==============================] - 0s 9ms/step - loss: 3.6851 - accuracy: 0.1429\n",
            "Epoch 3/100\n",
            "2/2 [==============================] - 0s 9ms/step - loss: 3.6823 - accuracy: 0.2041\n",
            "Epoch 4/100\n",
            "2/2 [==============================] - 0s 8ms/step - loss: 3.6795 - accuracy: 0.2041\n",
            "Epoch 5/100\n",
            "2/2 [==============================] - 0s 8ms/step - loss: 3.6768 - accuracy: 0.2041\n",
            "Epoch 6/100\n",
            "2/2 [==============================] - 0s 10ms/step - loss: 3.6738 - accuracy: 0.2041\n",
            "Epoch 7/100\n",
            "2/2 [==============================] - 0s 10ms/step - loss: 3.6710 - accuracy: 0.2041\n",
            "Epoch 8/100\n",
            "2/2 [==============================] - 0s 9ms/step - loss: 3.6679 - accuracy: 0.2245\n",
            "Epoch 9/100\n",
            "2/2 [==============================] - 0s 12ms/step - loss: 3.6648 - accuracy: 0.2245\n",
            "Epoch 10/100\n",
            "2/2 [==============================] - 0s 9ms/step - loss: 3.6615 - accuracy: 0.2449\n",
            "Epoch 11/100\n",
            "2/2 [==============================] - 0s 8ms/step - loss: 3.6581 - accuracy: 0.2653\n",
            "Epoch 12/100\n",
            "2/2 [==============================] - 0s 8ms/step - loss: 3.6547 - accuracy: 0.2857\n",
            "Epoch 13/100\n",
            "2/2 [==============================] - 0s 8ms/step - loss: 3.6510 - accuracy: 0.2857\n",
            "Epoch 14/100\n",
            "2/2 [==============================] - 0s 9ms/step - loss: 3.6470 - accuracy: 0.3061\n",
            "Epoch 15/100\n",
            "2/2 [==============================] - 0s 8ms/step - loss: 3.6429 - accuracy: 0.3265\n",
            "Epoch 16/100\n",
            "2/2 [==============================] - 0s 8ms/step - loss: 3.6385 - accuracy: 0.3265\n",
            "Epoch 17/100\n",
            "2/2 [==============================] - 0s 10ms/step - loss: 3.6338 - accuracy: 0.3469\n",
            "Epoch 18/100\n",
            "2/2 [==============================] - 0s 10ms/step - loss: 3.6288 - accuracy: 0.3469\n",
            "Epoch 19/100\n",
            "2/2 [==============================] - 0s 14ms/step - loss: 3.6235 - accuracy: 0.3469\n",
            "Epoch 20/100\n",
            "2/2 [==============================] - 0s 9ms/step - loss: 3.6180 - accuracy: 0.3469\n",
            "Epoch 21/100\n",
            "2/2 [==============================] - 0s 12ms/step - loss: 3.6118 - accuracy: 0.3469\n",
            "Epoch 22/100\n",
            "2/2 [==============================] - 0s 9ms/step - loss: 3.6056 - accuracy: 0.3469\n",
            "Epoch 23/100\n",
            "2/2 [==============================] - 0s 9ms/step - loss: 3.5987 - accuracy: 0.3469\n",
            "Epoch 24/100\n",
            "2/2 [==============================] - 0s 9ms/step - loss: 3.5911 - accuracy: 0.3469\n",
            "Epoch 25/100\n",
            "2/2 [==============================] - 0s 9ms/step - loss: 3.5834 - accuracy: 0.3469\n",
            "Epoch 26/100\n",
            "2/2 [==============================] - 0s 10ms/step - loss: 3.5751 - accuracy: 0.3469\n",
            "Epoch 27/100\n",
            "2/2 [==============================] - 0s 10ms/step - loss: 3.5663 - accuracy: 0.3878\n",
            "Epoch 28/100\n",
            "2/2 [==============================] - 0s 10ms/step - loss: 3.5567 - accuracy: 0.3878\n",
            "Epoch 29/100\n",
            "2/2 [==============================] - 0s 10ms/step - loss: 3.5469 - accuracy: 0.3673\n",
            "Epoch 30/100\n",
            "2/2 [==============================] - 0s 12ms/step - loss: 3.5360 - accuracy: 0.3673\n",
            "Epoch 31/100\n",
            "2/2 [==============================] - 0s 9ms/step - loss: 3.5244 - accuracy: 0.3673\n",
            "Epoch 32/100\n",
            "2/2 [==============================] - 0s 10ms/step - loss: 3.5121 - accuracy: 0.3673\n",
            "Epoch 33/100\n",
            "2/2 [==============================] - 0s 10ms/step - loss: 3.4993 - accuracy: 0.3673\n",
            "Epoch 34/100\n",
            "2/2 [==============================] - 0s 8ms/step - loss: 3.4855 - accuracy: 0.3878\n",
            "Epoch 35/100\n",
            "2/2 [==============================] - 0s 10ms/step - loss: 3.4706 - accuracy: 0.3878\n",
            "Epoch 36/100\n",
            "2/2 [==============================] - 0s 8ms/step - loss: 3.4549 - accuracy: 0.4082\n",
            "Epoch 37/100\n",
            "2/2 [==============================] - 0s 8ms/step - loss: 3.4386 - accuracy: 0.4490\n",
            "Epoch 38/100\n",
            "2/2 [==============================] - 0s 8ms/step - loss: 3.4207 - accuracy: 0.4490\n",
            "Epoch 39/100\n",
            "2/2 [==============================] - 0s 9ms/step - loss: 3.4024 - accuracy: 0.4490\n",
            "Epoch 40/100\n",
            "2/2 [==============================] - 0s 8ms/step - loss: 3.3815 - accuracy: 0.4490\n",
            "Epoch 41/100\n",
            "2/2 [==============================] - 0s 8ms/step - loss: 3.3603 - accuracy: 0.4490\n",
            "Epoch 42/100\n",
            "2/2 [==============================] - 0s 8ms/step - loss: 3.3386 - accuracy: 0.4694\n",
            "Epoch 43/100\n",
            "2/2 [==============================] - 0s 11ms/step - loss: 3.3145 - accuracy: 0.4694\n",
            "Epoch 44/100\n",
            "2/2 [==============================] - 0s 10ms/step - loss: 3.2896 - accuracy: 0.4694\n",
            "Epoch 45/100\n",
            "2/2 [==============================] - 0s 10ms/step - loss: 3.2631 - accuracy: 0.4694\n",
            "Epoch 46/100\n",
            "2/2 [==============================] - 0s 11ms/step - loss: 3.2347 - accuracy: 0.4898\n",
            "Epoch 47/100\n",
            "2/2 [==============================] - 0s 10ms/step - loss: 3.2039 - accuracy: 0.4898\n",
            "Epoch 48/100\n",
            "2/2 [==============================] - 0s 8ms/step - loss: 3.1731 - accuracy: 0.4898\n",
            "Epoch 49/100\n",
            "2/2 [==============================] - 0s 11ms/step - loss: 3.1402 - accuracy: 0.5102\n",
            "Epoch 50/100\n",
            "2/2 [==============================] - 0s 10ms/step - loss: 3.1081 - accuracy: 0.5306\n",
            "Epoch 51/100\n",
            "2/2 [==============================] - 0s 12ms/step - loss: 3.0715 - accuracy: 0.5306\n",
            "Epoch 52/100\n",
            "2/2 [==============================] - 0s 9ms/step - loss: 3.0346 - accuracy: 0.5306\n",
            "Epoch 53/100\n",
            "2/2 [==============================] - 0s 10ms/step - loss: 2.9946 - accuracy: 0.5306\n",
            "Epoch 54/100\n",
            "2/2 [==============================] - 0s 9ms/step - loss: 2.9546 - accuracy: 0.5306\n",
            "Epoch 55/100\n",
            "2/2 [==============================] - 0s 10ms/step - loss: 2.9123 - accuracy: 0.5306\n",
            "Epoch 56/100\n",
            "2/2 [==============================] - 0s 9ms/step - loss: 2.8712 - accuracy: 0.5306\n",
            "Epoch 57/100\n",
            "2/2 [==============================] - 0s 10ms/step - loss: 2.8253 - accuracy: 0.5306\n",
            "Epoch 58/100\n",
            "2/2 [==============================] - 0s 9ms/step - loss: 2.7803 - accuracy: 0.5306\n",
            "Epoch 59/100\n",
            "2/2 [==============================] - 0s 10ms/step - loss: 2.7350 - accuracy: 0.5306\n",
            "Epoch 60/100\n",
            "2/2 [==============================] - 0s 8ms/step - loss: 2.6864 - accuracy: 0.5306\n",
            "Epoch 61/100\n",
            "2/2 [==============================] - 0s 8ms/step - loss: 2.6384 - accuracy: 0.5306\n",
            "Epoch 62/100\n",
            "2/2 [==============================] - 0s 11ms/step - loss: 2.5918 - accuracy: 0.5306\n",
            "Epoch 63/100\n",
            "2/2 [==============================] - 0s 12ms/step - loss: 2.5417 - accuracy: 0.5306\n",
            "Epoch 64/100\n",
            "2/2 [==============================] - 0s 8ms/step - loss: 2.4942 - accuracy: 0.5306\n",
            "Epoch 65/100\n",
            "2/2 [==============================] - 0s 8ms/step - loss: 2.4451 - accuracy: 0.5510\n",
            "Epoch 66/100\n",
            "2/2 [==============================] - 0s 8ms/step - loss: 2.3967 - accuracy: 0.5510\n",
            "Epoch 67/100\n",
            "2/2 [==============================] - 0s 15ms/step - loss: 2.3486 - accuracy: 0.5918\n",
            "Epoch 68/100\n",
            "2/2 [==============================] - 0s 9ms/step - loss: 2.2999 - accuracy: 0.5918\n",
            "Epoch 69/100\n",
            "2/2 [==============================] - 0s 13ms/step - loss: 2.2526 - accuracy: 0.6327\n",
            "Epoch 70/100\n",
            "2/2 [==============================] - 0s 9ms/step - loss: 2.2054 - accuracy: 0.6327\n",
            "Epoch 71/100\n",
            "2/2 [==============================] - 0s 9ms/step - loss: 2.1591 - accuracy: 0.6327\n",
            "Epoch 72/100\n",
            "2/2 [==============================] - 0s 9ms/step - loss: 2.1112 - accuracy: 0.6327\n",
            "Epoch 73/100\n",
            "2/2 [==============================] - 0s 9ms/step - loss: 2.0670 - accuracy: 0.6327\n",
            "Epoch 74/100\n",
            "2/2 [==============================] - 0s 10ms/step - loss: 2.0201 - accuracy: 0.6122\n",
            "Epoch 75/100\n",
            "2/2 [==============================] - 0s 10ms/step - loss: 1.9754 - accuracy: 0.6122\n",
            "Epoch 76/100\n",
            "2/2 [==============================] - 0s 10ms/step - loss: 1.9310 - accuracy: 0.6122\n",
            "Epoch 77/100\n",
            "2/2 [==============================] - 0s 10ms/step - loss: 1.8866 - accuracy: 0.6122\n",
            "Epoch 78/100\n",
            "2/2 [==============================] - 0s 10ms/step - loss: 1.8448 - accuracy: 0.6122\n",
            "Epoch 79/100\n",
            "2/2 [==============================] - 0s 11ms/step - loss: 1.8004 - accuracy: 0.6327\n",
            "Epoch 80/100\n",
            "2/2 [==============================] - 0s 10ms/step - loss: 1.7585 - accuracy: 0.6327\n",
            "Epoch 81/100\n",
            "2/2 [==============================] - 0s 10ms/step - loss: 1.7176 - accuracy: 0.6327\n",
            "Epoch 82/100\n",
            "2/2 [==============================] - 0s 11ms/step - loss: 1.6749 - accuracy: 0.6735\n",
            "Epoch 83/100\n",
            "2/2 [==============================] - 0s 16ms/step - loss: 1.6347 - accuracy: 0.6735\n",
            "Epoch 84/100\n",
            "2/2 [==============================] - 0s 10ms/step - loss: 1.5943 - accuracy: 0.6735\n",
            "Epoch 85/100\n",
            "2/2 [==============================] - 0s 11ms/step - loss: 1.5559 - accuracy: 0.6735\n",
            "Epoch 86/100\n",
            "2/2 [==============================] - 0s 9ms/step - loss: 1.5181 - accuracy: 0.6939\n",
            "Epoch 87/100\n",
            "2/2 [==============================] - 0s 9ms/step - loss: 1.4784 - accuracy: 0.7143\n",
            "Epoch 88/100\n",
            "2/2 [==============================] - 0s 10ms/step - loss: 1.4408 - accuracy: 0.7347\n",
            "Epoch 89/100\n",
            "2/2 [==============================] - 0s 7ms/step - loss: 1.4042 - accuracy: 0.7347\n",
            "Epoch 90/100\n",
            "2/2 [==============================] - 0s 7ms/step - loss: 1.3676 - accuracy: 0.7347\n",
            "Epoch 91/100\n",
            "2/2 [==============================] - 0s 9ms/step - loss: 1.3323 - accuracy: 0.7347\n",
            "Epoch 92/100\n",
            "2/2 [==============================] - 0s 9ms/step - loss: 1.2972 - accuracy: 0.7551\n",
            "Epoch 93/100\n",
            "2/2 [==============================] - 0s 8ms/step - loss: 1.2630 - accuracy: 0.7755\n",
            "Epoch 94/100\n",
            "2/2 [==============================] - 0s 9ms/step - loss: 1.2296 - accuracy: 0.7755\n",
            "Epoch 95/100\n",
            "2/2 [==============================] - 0s 9ms/step - loss: 1.1962 - accuracy: 0.7755\n",
            "Epoch 96/100\n",
            "2/2 [==============================] - 0s 9ms/step - loss: 1.1647 - accuracy: 0.7755\n",
            "Epoch 97/100\n",
            "2/2 [==============================] - 0s 9ms/step - loss: 1.1344 - accuracy: 0.7755\n",
            "Epoch 98/100\n",
            "2/2 [==============================] - 0s 7ms/step - loss: 1.1042 - accuracy: 0.7755\n",
            "Epoch 99/100\n",
            "2/2 [==============================] - 0s 9ms/step - loss: 1.0734 - accuracy: 0.7755\n",
            "Epoch 100/100\n",
            "2/2 [==============================] - 0s 10ms/step - loss: 1.0447 - accuracy: 0.7755\n",
            "2/2 [==============================] - 1s 8ms/step - loss: 1.0207 - accuracy: 0.7959\n",
            "Test set\n",
            " loss: 1.021\n",
            " Accuracy:0.796\n"
          ]
        }
      ]
    },
    {
      "cell_type": "code",
      "source": [
        "from keras.preprocessing.sequence import pad_sequences\n",
        "def prediction(seed_text, next_words): \n",
        "  for _ in range(next_words):\n",
        "   \n",
        "\n",
        "   \n",
        "    token_list = sequences([seed_text])[0]\n",
        "    token_list = pad_sequences([token_list],padding='pre')  \n",
        "    predicted = np.argmax(model.predict(token_list, verbose=1), axis=-1)  \n",
        "    ouput_word = \"\"  \n",
        "    for word, index in tok.word_index.items():\n",
        "      if index == predicted:\n",
        "        output_word = word\n",
        "        break\n",
        "    seed_text += ' '+output_word\n",
        "    print(seed_text)\n"
      ],
      "metadata": {
        "id": "OS_dgAzkXhJu"
      },
      "execution_count": null,
      "outputs": []
    },
    {
      "cell_type": "code",
      "source": [
        "seed_text='intelligent become'\n",
        "next_words = len(\"Artificial Intelligence (AI) \".split())\n",
        "prediction(seed_text, next_words)"
      ],
      "metadata": {
        "colab": {
          "base_uri": "https://localhost:8080/",
          "height": 331
        },
        "id": "ZQhlvvDz0faV",
        "outputId": "1768324f-c19d-4cf1-f123-82f44637b524"
      },
      "execution_count": null,
      "outputs": [
        {
          "output_type": "error",
          "ename": "TypeError",
          "evalue": "ignored",
          "traceback": [
            "\u001b[0;31m---------------------------------------------------------------------------\u001b[0m",
            "\u001b[0;31mTypeError\u001b[0m                                 Traceback (most recent call last)",
            "\u001b[0;32m<ipython-input-70-512e35c45bb3>\u001b[0m in \u001b[0;36m<module>\u001b[0;34m\u001b[0m\n\u001b[1;32m      1\u001b[0m \u001b[0mseed_text\u001b[0m\u001b[0;34m=\u001b[0m\u001b[0;34m'intelligent become'\u001b[0m\u001b[0;34m\u001b[0m\u001b[0;34m\u001b[0m\u001b[0m\n\u001b[1;32m      2\u001b[0m \u001b[0mnext_words\u001b[0m \u001b[0;34m=\u001b[0m \u001b[0mlen\u001b[0m\u001b[0;34m(\u001b[0m\u001b[0;34m\"Artificial Intelligence (AI) \"\u001b[0m\u001b[0;34m.\u001b[0m\u001b[0msplit\u001b[0m\u001b[0;34m(\u001b[0m\u001b[0;34m)\u001b[0m\u001b[0;34m)\u001b[0m\u001b[0;34m\u001b[0m\u001b[0;34m\u001b[0m\u001b[0m\n\u001b[0;32m----> 3\u001b[0;31m \u001b[0mprediction\u001b[0m\u001b[0;34m(\u001b[0m\u001b[0mseed_text\u001b[0m\u001b[0;34m,\u001b[0m \u001b[0mnext_words\u001b[0m\u001b[0;34m)\u001b[0m\u001b[0;34m\u001b[0m\u001b[0;34m\u001b[0m\u001b[0m\n\u001b[0m",
            "\u001b[0;32m<ipython-input-69-8467afde5c4c>\u001b[0m in \u001b[0;36mprediction\u001b[0;34m(seed_text, next_words)\u001b[0m\n\u001b[1;32m      5\u001b[0m \u001b[0;34m\u001b[0m\u001b[0m\n\u001b[1;32m      6\u001b[0m \u001b[0;34m\u001b[0m\u001b[0m\n\u001b[0;32m----> 7\u001b[0;31m     \u001b[0mtoken_list\u001b[0m \u001b[0;34m=\u001b[0m \u001b[0msequences\u001b[0m\u001b[0;34m(\u001b[0m\u001b[0;34m[\u001b[0m\u001b[0mseed_text\u001b[0m\u001b[0;34m]\u001b[0m\u001b[0;34m)\u001b[0m\u001b[0;34m[\u001b[0m\u001b[0;36m0\u001b[0m\u001b[0;34m]\u001b[0m\u001b[0;34m\u001b[0m\u001b[0;34m\u001b[0m\u001b[0m\n\u001b[0m\u001b[1;32m      8\u001b[0m     \u001b[0mtoken_list\u001b[0m \u001b[0;34m=\u001b[0m \u001b[0mpad_sequences\u001b[0m\u001b[0;34m(\u001b[0m\u001b[0;34m[\u001b[0m\u001b[0mtoken_list\u001b[0m\u001b[0;34m]\u001b[0m\u001b[0;34m,\u001b[0m\u001b[0mpadding\u001b[0m\u001b[0;34m=\u001b[0m\u001b[0;34m'pre'\u001b[0m\u001b[0;34m)\u001b[0m\u001b[0;34m\u001b[0m\u001b[0;34m\u001b[0m\u001b[0m\n\u001b[1;32m      9\u001b[0m     \u001b[0mpredicted\u001b[0m \u001b[0;34m=\u001b[0m \u001b[0mnp\u001b[0m\u001b[0;34m.\u001b[0m\u001b[0margmax\u001b[0m\u001b[0;34m(\u001b[0m\u001b[0mmodel\u001b[0m\u001b[0;34m.\u001b[0m\u001b[0mpredict\u001b[0m\u001b[0;34m(\u001b[0m\u001b[0mtoken_list\u001b[0m\u001b[0;34m,\u001b[0m \u001b[0mverbose\u001b[0m\u001b[0;34m=\u001b[0m\u001b[0;36m1\u001b[0m\u001b[0;34m)\u001b[0m\u001b[0;34m,\u001b[0m \u001b[0maxis\u001b[0m\u001b[0;34m=\u001b[0m\u001b[0;34m-\u001b[0m\u001b[0;36m1\u001b[0m\u001b[0;34m)\u001b[0m\u001b[0;34m\u001b[0m\u001b[0;34m\u001b[0m\u001b[0m\n",
            "\u001b[0;31mTypeError\u001b[0m: 'list' object is not callable"
          ]
        }
      ]
    },
    {
      "cell_type": "code",
      "source": [
        "import decimal\n",
        "predicted = np.argmax(model.predict([8], verbose=1), axis=-1)  \n",
        "s=np.round((predicted))[0]\n",
        "for key , value in tok.word_index.items():\n",
        "  if value == s:\n",
        "    print(key)"
      ],
      "metadata": {
        "colab": {
          "base_uri": "https://localhost:8080/"
        },
        "id": "HZhUVOBopsPU",
        "outputId": "35f15230-09ad-4360-b57b-b2695aef9b1c"
      },
      "execution_count": null,
      "outputs": [
        {
          "output_type": "stream",
          "name": "stdout",
          "text": [
            "1/1 [==============================] - 0s 174ms/step\n",
            "intelligence\n"
          ]
        }
      ]
    },
    {
      "cell_type": "code",
      "source": [
        "\n",
        "test='intelligent become'\n",
        "word_mod=tok.texts_to_sequences([test])[0]\n",
        "word_mod=np.array(word_mod)\n",
        "predict_x=model.predict(word_mod)\n",
        "classe=np.argmax(predict_x,axis=1)\n",
        "for j in classe:\n",
        "  for key , value in tok.word_index.items():\n",
        "    if value == j:\n",
        "      print(key)\n"
      ],
      "metadata": {
        "colab": {
          "base_uri": "https://localhost:8080/"
        },
        "id": "j570F8Jsu1NC",
        "outputId": "33887edd-d3fc-40e1-b37f-2c5d3ba722b3"
      },
      "execution_count": null,
      "outputs": [
        {
          "output_type": "stream",
          "name": "stdout",
          "text": [
            "today\n",
            "an\n"
          ]
        }
      ]
    }
  ]
}