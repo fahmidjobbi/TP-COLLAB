{
  "nbformat": 4,
  "nbformat_minor": 0,
  "metadata": {
    "colab": {
      "name": "TP Regression 2.ipynb",
      "provenance": [],
      "authorship_tag": "ABX9TyPd3Bht7z4lJYlIemMaBkiN",
      "include_colab_link": true
    },
    "kernelspec": {
      "name": "python3",
      "display_name": "Python 3"
    },
    "language_info": {
      "name": "python"
    }
  },
  "cells": [
    {
      "cell_type": "markdown",
      "metadata": {
        "id": "view-in-github",
        "colab_type": "text"
      },
      "source": [
        "<a href=\"https://colab.research.google.com/github/fahmidjobbi/TP-COLLAB/blob/main/TP_Regression_2.ipynb\" target=\"_parent\"><img src=\"https://colab.research.google.com/assets/colab-badge.svg\" alt=\"Open In Colab\"/></a>"
      ]
    },
    {
      "cell_type": "code",
      "execution_count": null,
      "metadata": {
        "colab": {
          "base_uri": "https://localhost:8080/"
        },
        "id": "vOBCrukfVRAv",
        "outputId": "e5b40ebb-d97a-4f4e-d868-865f624b6a84"
      },
      "outputs": [
        {
          "output_type": "stream",
          "name": "stdout",
          "text": [
            "     Home   Price  SqFt  Bedrooms  Bathrooms  Offers Brick Neighborhood\n",
            "0       1  114300  1790         2          2       2    No         East\n",
            "1       2  114200  2030         4          2       3    No         East\n",
            "2       3  114800  1740         3          2       1    No         East\n",
            "3       4   94700  1980         3          2       3    No         East\n",
            "4       5  119800  2130         3          3       3    No         East\n",
            "..    ...     ...   ...       ...        ...     ...   ...          ...\n",
            "123   124  119700  1900         3          3       3   Yes         East\n",
            "124   125  147900  2160         4          3       3   Yes         East\n",
            "125   126  113500  2070         2          2       2    No        North\n",
            "126   127  149900  2020         3          3       1    No         West\n",
            "127   128  124600  2250         3          3       4    No        North\n",
            "\n",
            "[128 rows x 8 columns]\n"
          ]
        }
      ],
      "source": [
        "import pandas as pd\n",
        "import numpy as np\n",
        "dataset = pd.read_csv('/content/house-prices.csv')\n",
        "print(dataset)\n"
      ]
    },
    {
      "cell_type": "code",
      "source": [
        "x=np.array(dataset['SqFt'])\n",
        "y=np.array(dataset['Price'])\n",
        "x1=x.reshape(-1,1)\n",
        "y1=y.reshape(-1,1)\n",
        "from sklearn.linear_model import LinearRegression\n",
        "model=LinearRegression()\n",
        "model.fit(x1,y1)\n",
        "a=model.coef_\n",
        "b=model.intercept_\n",
        "label=model.predict(x1)\n",
        "from sklearn.metrics import mean_squared_error\n",
        "mse=mean_squared_error(y1, label)\n",
        "import math\n",
        "print('RMSE', math.sqrt(mse))\n",
        "import pandas as pd\n",
        "y=pd.DataFrame(y)\n",
        "y.describe()\n",
        "from sklearn.metrics import explained_variance_score\n",
        "EV=explained_variance_score(y,label)\n",
        "print(\"Explained variance %f\" %(EV))"
      ],
      "metadata": {
        "colab": {
          "base_uri": "https://localhost:8080/"
        },
        "id": "CwhMShzSVwbB",
        "outputId": "baecd1f0-b5b4-40f1-e65e-2216b69a86dd"
      },
      "execution_count": null,
      "outputs": [
        {
          "output_type": "stream",
          "name": "stdout",
          "text": [
            "RMSE 22299.25223701427\n",
            "Explained variance 0.305789\n"
          ]
        }
      ]
    },
    {
      "cell_type": "code",
      "source": [
        "import time \n",
        "debut=time.time()\n",
        "model.fit(x1,y1)\n",
        "Temps=time.time()-debut\n",
        "print(Temps)"
      ],
      "metadata": {
        "colab": {
          "base_uri": "https://localhost:8080/"
        },
        "id": "haF42uAox8kG",
        "outputId": "2fb6f5b5-ed8e-42e3-cd32-4e3a04c2279b"
      },
      "execution_count": null,
      "outputs": [
        {
          "output_type": "stream",
          "name": "stdout",
          "text": [
            "0.0015039443969726562\n"
          ]
        }
      ]
    },
    {
      "cell_type": "code",
      "source": [
        ""
      ],
      "metadata": {
        "id": "bS0alE3QyR_S"
      },
      "execution_count": null,
      "outputs": []
    }
  ]
}