{
  "nbformat": 4,
  "nbformat_minor": 0,
  "metadata": {
    "colab": {
      "name": "TP traitement Signal 3.ipynb",
      "provenance": [],
      "collapsed_sections": [],
      "authorship_tag": "ABX9TyOrSKExi8BgdC47pdBrcEo8",
      "include_colab_link": true
    },
    "kernelspec": {
      "name": "python3",
      "display_name": "Python 3"
    },
    "language_info": {
      "name": "python"
    }
  },
  "cells": [
    {
      "cell_type": "markdown",
      "metadata": {
        "id": "view-in-github",
        "colab_type": "text"
      },
      "source": [
        "<a href=\"https://colab.research.google.com/github/fahmidjobbi/TP-COLLAB/blob/main/TP_traitement_Signal_3.ipynb\" target=\"_parent\"><img src=\"https://colab.research.google.com/assets/colab-badge.svg\" alt=\"Open In Colab\"/></a>"
      ]
    },
    {
      "cell_type": "markdown",
      "metadata": {
        "id": "6Uv49ka7k9A_"
      },
      "source": [
        "**TP2 : Fahmi Djobbi Partie 2**"
      ]
    },
    {
      "cell_type": "code",
      "metadata": {
        "id": "uodnQCNuhVhH"
      },
      "source": [
        "#partie 2\n",
        "import numpy as np\n",
        "import matplotlib.pyplot as plt \n",
        "#sig implusion d(k)\n",
        "N=20\n",
        "k=np.arange(N)\n",
        "#x=np.zeros(N)\n",
        "#x[0]=1\n",
        "#sig x(k)=rectN\n",
        "x[0:10]=1 #or\n",
        "x=np.append(np.ones(10),np.zeros(N-10))\n",
        "\n",
        "N=len(x)\n",
        "def nextpow2(N):\n",
        "  n=1\n",
        "  while n<N: n*=2\n",
        "  return n\n",
        "Nf=nextpow2(N)\n",
        "Xa=np.fft.fftshift(np.abs(np.fft.fft(x,Nf)))/N\n",
        "fp=np.arange(-Nf/2,Nf/2)/Nf"
      ],
      "execution_count": null,
      "outputs": []
    },
    {
      "cell_type": "code",
      "metadata": {
        "colab": {
          "base_uri": "https://localhost:8080/",
          "height": 386
        },
        "id": "VKz1j3Dyjjsv",
        "outputId": "464a28fb-367a-4bbd-f9c8-54b479317ed7"
      },
      "source": [
        "# Représentation du signal\n",
        "plt.figure()\n",
        "plt.subplot(211); plt.stem(k,x);\n",
        "plt.xlabel('temps(s)')\n",
        "plt.ylabel('amplitude')\n",
        "#-Représentation fréquentiel\n",
        "plt.subplot(212)\n",
        "plt.stem(fp,Xa)\n",
        "plt.xlabel('fréquence (Hz)')\n",
        "plt.ylabel('spectre d''amplitude')"
      ],
      "execution_count": null,
      "outputs": [
        {
          "output_type": "stream",
          "name": "stderr",
          "text": [
            "/usr/local/lib/python3.7/dist-packages/ipykernel_launcher.py:3: UserWarning: In Matplotlib 3.3 individual lines on a stem plot will be added as a LineCollection instead of individual lines. This significantly improves the performance of a stem plot. To remove this warning and switch to the new behaviour, set the \"use_line_collection\" keyword argument to True.\n",
            "  This is separate from the ipykernel package so we can avoid doing imports until\n",
            "/usr/local/lib/python3.7/dist-packages/ipykernel_launcher.py:8: UserWarning: In Matplotlib 3.3 individual lines on a stem plot will be added as a LineCollection instead of individual lines. This significantly improves the performance of a stem plot. To remove this warning and switch to the new behaviour, set the \"use_line_collection\" keyword argument to True.\n",
            "  \n"
          ]
        },
        {
          "output_type": "execute_result",
          "data": {
            "text/plain": [
              "Text(0, 0.5, 'spectre damplitude')"
            ]
          },
          "metadata": {},
          "execution_count": 7
        },
        {
          "output_type": "display_data",
          "data": {
            "image/png": "[encoded data removed]",
            "text/plain": [
              "<Figure size 432x288 with 2 Axes>"
            ]
          },
          "metadata": {
            "needs_background": "light"
          }
        }
      ]
    }
  ]
}