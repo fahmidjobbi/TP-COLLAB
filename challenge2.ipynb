{
  "nbformat": 4,
  "nbformat_minor": 0,
  "metadata": {
    "colab": {
      "name": "challenge2.ipynb",
      "provenance": [],
      "collapsed_sections": [],
      "include_colab_link": true
    },
    "kernelspec": {
      "name": "python3",
      "display_name": "Python 3"
    },
    "language_info": {
      "name": "python"
    }
  },
  "cells": [
    {
      "cell_type": "markdown",
      "metadata": {
        "id": "view-in-github",
        "colab_type": "text"
      },
      "source": [
        "<a href=\"https://colab.research.google.com/github/fahmidjobbi/TP-COLLAB/blob/main/challenge2.ipynb\" target=\"_parent\"><img src=\"https://colab.research.google.com/assets/colab-badge.svg\" alt=\"Open In Colab\"/></a>"
      ]
    },
    {
      "cell_type": "code",
      "metadata": {
        "id": "CHDP_g2h1e7i"
      },
      "source": [
        "zip_url = \"https://itree-bootcamp.s3.amazonaws.com/chall2/ips.zip\""
      ],
      "execution_count": null,
      "outputs": []
    },
    {
      "cell_type": "code",
      "metadata": {
        "id": "jznzBYV82GML"
      },
      "source": [
        "import requests\n",
        "r = requests.get(zip_url)\n",
        "with open(\"data.zip\", \"wb\") as f:\n",
        "    f.write(r.content)"
      ],
      "execution_count": null,
      "outputs": []
    },
    {
      "cell_type": "code",
      "metadata": {
        "id": "Kpj_YSaC1sPA"
      },
      "source": [
        "from zipfile import ZipFile"
      ],
      "execution_count": null,
      "outputs": []
    },
    {
      "cell_type": "code",
      "metadata": {
        "id": "ry6mKXiJ1xfp"
      },
      "source": [
        "unzip = ZipFile(\"/content/data.zip\", 'r')\n",
        "unzip.extractall('images')"
      ],
      "execution_count": null,
      "outputs": []
    },
    {
      "cell_type": "code",
      "metadata": {
        "colab": {
          "base_uri": "https://localhost:8080/"
        },
        "id": "2qlKfMjA2tx9",
        "outputId": "ea94f124-a95f-4c4d-900c-f9451a35a4f7"
      },
      "source": [
        "paths = [f\"/content/images/images/ip{i+1}.png\" for i in range(4)]\n",
        "paths"
      ],
      "execution_count": null,
      "outputs": [
        {
          "output_type": "execute_result",
          "data": {
            "text/plain": [
              "['/content/images/images/ip1.png',\n",
              " '/content/images/images/ip2.png',\n",
              " '/content/images/images/ip3.png',\n",
              " '/content/images/images/ip4.png']"
            ]
          },
          "metadata": {},
          "execution_count": 5
        }
      ]
    },
    {
      "cell_type": "code",
      "metadata": {
        "id": "ypNtc_0o3O-r"
      },
      "source": [
        "import cv2\n",
        "ip1, ip2, ip3, ip4 = [ cv2.imread(path,0) for path in paths]"
      ],
      "execution_count": null,
      "outputs": []
    },
    {
      "cell_type": "code",
      "metadata": {
        "colab": {
          "base_uri": "https://localhost:8080/",
          "height": 150
        },
        "id": "yp0GfkPz3fuq",
        "outputId": "14b9d4cb-4c37-4a35-e958-e36ccff423ff"
      },
      "source": [
        "import matplotlib.pyplot as plt\n",
        "def show_im(path):\n",
        "  plt.imshow(path, cmap='gray')\n",
        "  plt.show()\n",
        "\n",
        "show_im(ip1)"
      ],
      "execution_count": null,
      "outputs": [
        {
          "output_type": "display_data",
          "data": {
            "image/png": "[encoded data removed]",
            "text/plain": [
              "<Figure size 432x288 with 1 Axes>"
            ]
          },
          "metadata": {
            "needs_background": "light"
          }
        }
      ]
    },
    {
      "cell_type": "code",
      "metadata": {
        "colab": {
          "base_uri": "https://localhost:8080/",
          "height": 150
        },
        "id": "4mnuDcB23r_Z",
        "outputId": "b62c496f-35b7-4751-b9f5-12338826ed74"
      },
      "source": [
        "ip1 = cv2.bitwise_not(ip1)\n",
        "show_im(ip1)"
      ],
      "execution_count": null,
      "outputs": [
        {
          "output_type": "display_data",
          "data": {
            "image/png": "[encoded data removed]",
            "text/plain": [
              "<Figure size 432x288 with 1 Axes>"
            ]
          },
          "metadata": {
            "needs_background": "light"
          }
        }
      ]
    },
    {
      "cell_type": "code",
      "metadata": {
        "colab": {
          "base_uri": "https://localhost:8080/",
          "height": 150
        },
        "id": "FXwLT5pE32Xx",
        "outputId": "eefe9891-1251-4954-f384-44c9e0721f26"
      },
      "source": [
        "left = cv2.bitwise_and(ip1, ip3)\n",
        "right = cv2.bitwise_and(ip2, ip4)\n",
        "all = cv2.bitwise_and(left, right)\n",
        "\n",
        "show_im(all)"
      ],
      "execution_count": null,
      "outputs": [
        {
          "output_type": "display_data",
          "data": {
            "image/png": "[encoded data removed]",
            "text/plain": [
              "<Figure size 432x288 with 1 Axes>"
            ]
          },
          "metadata": {
            "needs_background": "light"
          }
        }
      ]
    },
    {
      "cell_type": "code",
      "metadata": {
        "colab": {
          "base_uri": "https://localhost:8080/"
        },
        "id": "zhUDY3O14jZw",
        "outputId": "b3fb2663-b2e2-40ad-efd6-793138c5150a"
      },
      "source": [
        "cv2.imwrite(\"all.png\", all)"
      ],
      "execution_count": null,
      "outputs": [
        {
          "output_type": "execute_result",
          "data": {
            "text/plain": [
              "True"
            ]
          },
          "metadata": {},
          "execution_count": 10
        }
      ]
    },
    {
      "cell_type": "code",
      "metadata": {
        "id": "h7AnXjag4FzM"
      },
      "source": [
        "!sudo apt install tesseract-ocr\n",
        "!pip install pytesseract"
      ],
      "execution_count": null,
      "outputs": []
    },
    {
      "cell_type": "markdown",
      "metadata": {
        "id": "-Uh8Oo_MAgbK"
      },
      "source": [
        ""
      ]
    },
    {
      "cell_type": "code",
      "metadata": {
        "id": "10dXVJb14QwS"
      },
      "source": [
        "import pytesseract"
      ],
      "execution_count": null,
      "outputs": []
    },
    {
      "cell_type": "code",
      "metadata": {
        "colab": {
          "base_uri": "https://localhost:8080/",
          "height": 35
        },
        "id": "bNuLXJfO4dmH",
        "outputId": "5221b607-4155-40e8-f764-0f8fb6e77720"
      },
      "source": [
        "pytesseract.image_to_string(\"/content/ip.png\")"
      ],
      "execution_count": null,
      "outputs": [
        {
          "output_type": "execute_result",
          "data": {
            "application/vnd.google.colaboratory.intrinsic+json": {
              "type": "string"
            },
            "text/plain": [
              "'3.91.174.231\\n\\x0c'"
            ]
          },
          "metadata": {},
          "execution_count": 29
        }
      ]
    },
    {
      "cell_type": "code",
      "metadata": {
        "colab": {
          "base_uri": "https://localhost:8080/",
          "height": 236
        },
        "id": "Fc6_Oqux41-e",
        "outputId": "f907934a-66b3-48fd-fdc7-1cb7a8a472bd"
      },
      "source": [
        "import cv2\n",
        "from random import randrange, random\n",
        "\n",
        "cascadePath = \"haarcascade_frontalface_default.xml\"\n",
        "faceCascade = cv2.CascadeClassifier(cascadePath)\n",
        "font = cv2.FONT_HERSHEY_SIMPLEX\n",
        "\n",
        "camera_number = 0\n",
        "cam = cv2.VideoCapture(camera_number + cv2.CAP_DSHOW)\n",
        "# this picks the LARGEST image possible\n",
        "cam.set(cv2.CAP_PROP_FRAME_HEIGHT, 10000)\n",
        "cam.set(cv2.CAP_PROP_FRAME_WIDTH, 10000)\n",
        "\n",
        "\n",
        "# Define min window size to be recognized as a face\n",
        "minW = 0.1*cam.get(3)\n",
        "minH = 0.1*cam.get(4)\n",
        "\n",
        "while True:\n",
        "\n",
        "    ret, img = cam.read()\n",
        "    img = cv2.flip(img, 1)  # Flip vertically\n",
        "\n",
        "    gray = cv2.cvtColor(img, cv2.COLOR_BGR2GRAY)\n",
        "\n",
        "    # detect faces contours\n",
        "    faces = faceCascade.detectMultiScale(\n",
        "        gray,\n",
        "        scaleFactor=1.2,\n",
        "        minNeighbors=5,\n",
        "        minSize=(int(minW), int(minH)),\n",
        "    )\n",
        "\n",
        "    \n",
        "    for coord in faces:\n",
        "        (x, y, w, h) = coord\n",
        "        cv2.rectangle(img, (x, y), (x+w, y+h), (0, 255, 0), 2)\n",
        "\n",
        "\n",
        "        # confidence = recognizer.predict(gray[y-50:y+h+50,x-50:x+w+50])\n",
        "        love = randrange(60,90,5)\n",
        "        cv2.putText(img, f\"{love}% Nature Lover\", \n",
        "                    (x+5, y-5), font, 1, (255, 0, 0), 2)\n",
        "        # cv2.putText(img, str(confidence), (x+5,y+h-5), font, 1, (255,255,0), 1)\n",
        "\n",
        "    cv2.imshow('camera', img)\n",
        "\n",
        "    k = cv2.waitKey(10) & 0xff  # Press 'ESC' for exiting video\n",
        "    if k == 27:\n",
        "        break\n",
        "\n",
        "# Do a bit of cleanup\n",
        "print(\"\\n [INFO] Exiting Program and cleanup stuff\")\n",
        "cam.release()\n",
        "cv2.destroyAllWindows()\n"
      ],
      "execution_count": null,
      "outputs": [
        {
          "output_type": "error",
          "ename": "error",
          "evalue": "ignored",
          "traceback": [
            "\u001b[0;31m---------------------------------------------------------------------------\u001b[0m",
            "\u001b[0;31merror\u001b[0m                                     Traceback (most recent call last)",
            "\u001b[0;32m<ipython-input-30-69dcbfb055fc>\u001b[0m in \u001b[0;36m<module>\u001b[0;34m()\u001b[0m\n\u001b[1;32m     22\u001b[0m     \u001b[0mimg\u001b[0m \u001b[0;34m=\u001b[0m \u001b[0mcv2\u001b[0m\u001b[0;34m.\u001b[0m\u001b[0mflip\u001b[0m\u001b[0;34m(\u001b[0m\u001b[0mimg\u001b[0m\u001b[0;34m,\u001b[0m \u001b[0;36m1\u001b[0m\u001b[0;34m)\u001b[0m  \u001b[0;31m# Flip vertically\u001b[0m\u001b[0;34m\u001b[0m\u001b[0;34m\u001b[0m\u001b[0m\n\u001b[1;32m     23\u001b[0m \u001b[0;34m\u001b[0m\u001b[0m\n\u001b[0;32m---> 24\u001b[0;31m     \u001b[0mgray\u001b[0m \u001b[0;34m=\u001b[0m \u001b[0mcv2\u001b[0m\u001b[0;34m.\u001b[0m\u001b[0mcvtColor\u001b[0m\u001b[0;34m(\u001b[0m\u001b[0mimg\u001b[0m\u001b[0;34m,\u001b[0m \u001b[0mcv2\u001b[0m\u001b[0;34m.\u001b[0m\u001b[0mCOLOR_BGR2GRAY\u001b[0m\u001b[0;34m)\u001b[0m\u001b[0;34m\u001b[0m\u001b[0;34m\u001b[0m\u001b[0m\n\u001b[0m\u001b[1;32m     25\u001b[0m \u001b[0;34m\u001b[0m\u001b[0m\n\u001b[1;32m     26\u001b[0m     \u001b[0;31m# detect faces contours\u001b[0m\u001b[0;34m\u001b[0m\u001b[0;34m\u001b[0m\u001b[0;34m\u001b[0m\u001b[0m\n",
            "\u001b[0;31merror\u001b[0m: OpenCV(4.1.2) /io/opencv/modules/imgproc/src/color.cpp:182: error: (-215:Assertion failed) !_src.empty() in function 'cvtColor'\n"
          ]
        }
      ]
    },
    {
      "cell_type": "code",
      "metadata": {
        "id": "X-BwICIK8CSp"
      },
      "source": [
        "files = [\"kje58he0xaa.txt\", \"sndb5d4ze0xdf.txt\", \"ekjdnd5e4zefs10xff.txt\"]\n",
        "\n",
        "\n",
        "with open(\"detect.py\", \"w\") as py:\n",
        "    for fi in sorted(files, key=lambda champ: int(champ.split(\".\")[0][-4:],16)):\n",
        "        with open(fi, \"r\") as f:\n",
        "            py.write(f.read())\n",
        "            py.write(\"\\n\")"
      ],
      "execution_count": null,
      "outputs": []
    }
  ]
}