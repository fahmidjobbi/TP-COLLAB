{
  "nbformat": 4,
  "nbformat_minor": 0,
  "metadata": {
    "colab": {
      "provenance": [],
      "mount_file_id": "https://github.com/fahmidjobbi/TP-COLLAB/blob/main/Cats%26Dogs.ipynb",
      "authorship_tag": "ABX9TyP6UpfAsVJHSr4yohUdsmwx",
      "include_colab_link": true
    },
    "kernelspec": {
      "name": "python3",
      "display_name": "Python 3"
    },
    "language_info": {
      "name": "python"
    }
  },
  "cells": [
    {
      "cell_type": "markdown",
      "metadata": {
        "id": "view-in-github",
        "colab_type": "text"
      },
      "source": [
        "<a href=\"https://colab.research.google.com/github/fahmidjobbi/TP-COLLAB/blob/main/FinalCatsDogs(CNN).ipynb\" target=\"_parent\"><img src=\"https://colab.research.google.com/assets/colab-badge.svg\" alt=\"Open In Colab\"/></a>"
      ]
    },
    {
      "cell_type": "code",
      "execution_count": null,
      "metadata": {
        "id": "cvlsJMPLuSoo"
      },
      "outputs": [],
      "source": [
        "from PIL import Image \n",
        "import numpy as np\n",
        "import os,sys\n",
        "from sklearn.model_selection import train_test_split\n",
        "from keras.models import Sequential\n",
        "import cv2\n",
        "import numpy as np\n",
        "import matplotlib.pyplot as plt\n",
        "import glob\n",
        "import matplotlib.image as mpimg\n",
        "import pandas as pd \n",
        "import tensorflow as tf\n",
        "from tensorflow import keras\n",
        "from tensorflow.keras import layers"
      ]
    },
    {
      "cell_type": "markdown",
      "source": [
        "**Resize images to (300,300)**"
      ],
      "metadata": {
        "id": "ilb0bH53zYiQ"
      }
    },
    {
      "cell_type": "code",
      "source": [
        "path= '/content/drive/MyDrive/Dataanimals'\n",
        "for filename in glob.iglob(path + '**/*.jpg', recursive=True):\n",
        "    im = Image.open(filename)\n",
        "    imResize = im.resize((64,64), Image.ANTIALIAS)\n",
        "    print(filename)\n",
        "    imResize.save(filename,)"
      ],
      "metadata": {
        "colab": {
          "base_uri": "https://localhost:8080/"
        },
        "id": "WBD7fau1uq5Z",
        "outputId": "3b0c513b-b708-403a-db92-d685e153c696"
      },
      "execution_count": null,
      "outputs": [
        {
          "output_type": "stream",
          "name": "stdout",
          "text": [
            "/content/drive/MyDrive/Dataanimals/dog.4036.jpg\n",
            "/content/drive/MyDrive/Dataanimals/dog.4016.jpg\n",
            "/content/drive/MyDrive/Dataanimals/dog.4024.jpg\n",
            "/content/drive/MyDrive/Dataanimals/dog.4034.jpg\n",
            "/content/drive/MyDrive/Dataanimals/dog.4015.jpg\n",
            "/content/drive/MyDrive/Dataanimals/dog.4006.jpg\n",
            "/content/drive/MyDrive/Dataanimals/dog.4017.jpg\n",
            "/content/drive/MyDrive/Dataanimals/dog.4025.jpg\n",
            "/content/drive/MyDrive/Dataanimals/dog.4035.jpg\n",
            "/content/drive/MyDrive/Dataanimals/dog.4013.jpg\n",
            "/content/drive/MyDrive/Dataanimals/dog.4005.jpg\n",
            "/content/drive/MyDrive/Dataanimals/dog.4028.jpg\n",
            "/content/drive/MyDrive/Dataanimals/dog.4027.jpg\n",
            "/content/drive/MyDrive/Dataanimals/dog.4012.jpg\n",
            "/content/drive/MyDrive/Dataanimals/dog.4001.jpg\n",
            "/content/drive/MyDrive/Dataanimals/dog.4014.jpg\n",
            "/content/drive/MyDrive/Dataanimals/dog.4023.jpg\n",
            "/content/drive/MyDrive/Dataanimals/dog.4002.jpg\n",
            "/content/drive/MyDrive/Dataanimals/dog.4026.jpg\n",
            "/content/drive/MyDrive/Dataanimals/dog.4003.jpg\n",
            "/content/drive/MyDrive/Dataanimals/dog.4004.jpg\n",
            "/content/drive/MyDrive/Dataanimals/dog.4039.jpg\n",
            "/content/drive/MyDrive/Dataanimals/dog.4038.jpg\n",
            "/content/drive/MyDrive/Dataanimals/dog.4049.jpg\n",
            "/content/drive/MyDrive/Dataanimals/dog.4037.jpg\n",
            "/content/drive/MyDrive/Dataanimals/dog.4048.jpg\n",
            "/content/drive/MyDrive/Dataanimals/dog.4050.jpg\n",
            "/content/drive/MyDrive/Dataanimals/dog.4046.jpg\n",
            "/content/drive/MyDrive/Dataanimals/dog.4047.jpg\n",
            "/content/drive/MyDrive/Dataanimals/cat.4034.jpg\n",
            "/content/drive/MyDrive/Dataanimals/dog.4045.jpg\n",
            "/content/drive/MyDrive/Dataanimals/cat.4047.jpg\n",
            "/content/drive/MyDrive/Dataanimals/cat.4016.jpg\n",
            "/content/drive/MyDrive/Dataanimals/cat.4002.jpg\n",
            "/content/drive/MyDrive/Dataanimals/cat.4026.jpg\n",
            "/content/drive/MyDrive/Dataanimals/cat.4046.jpg\n",
            "/content/drive/MyDrive/Dataanimals/cat.4035.jpg\n",
            "/content/drive/MyDrive/Dataanimals/cat.4039.jpg\n",
            "/content/drive/MyDrive/Dataanimals/cat.4045.jpg\n",
            "/content/drive/MyDrive/Dataanimals/cat.4048.jpg\n",
            "/content/drive/MyDrive/Dataanimals/cat.4005.jpg\n",
            "/content/drive/MyDrive/Dataanimals/cat.4038.jpg\n",
            "/content/drive/MyDrive/Dataanimals/cat.4027.jpg\n",
            "/content/drive/MyDrive/Dataanimals/cat.4014.jpg\n",
            "/content/drive/MyDrive/Dataanimals/cat.4025.jpg\n",
            "/content/drive/MyDrive/Dataanimals/cat.4036.jpg\n",
            "/content/drive/MyDrive/Dataanimals/cat.4013.jpg\n",
            "/content/drive/MyDrive/Dataanimals/cat.4015.jpg\n",
            "/content/drive/MyDrive/Dataanimals/cat.4012.jpg\n",
            "/content/drive/MyDrive/Dataanimals/cat.4028.jpg\n",
            "/content/drive/MyDrive/Dataanimals/cat.4023.jpg\n",
            "/content/drive/MyDrive/Dataanimals/cat.4001.jpg\n",
            "/content/drive/MyDrive/Dataanimals/cat.4049.jpg\n",
            "/content/drive/MyDrive/Dataanimals/cat.4003.jpg\n",
            "/content/drive/MyDrive/Dataanimals/cat.4017.jpg\n",
            "/content/drive/MyDrive/Dataanimals/cat.4004.jpg\n",
            "/content/drive/MyDrive/Dataanimals/cat.4037.jpg\n",
            "/content/drive/MyDrive/Dataanimals/cat.4006.jpg\n",
            "/content/drive/MyDrive/Dataanimals/cat.4024.jpg\n",
            "/content/drive/MyDrive/Dataanimals/cat.4050.jpg\n"
          ]
        }
      ]
    },
    {
      "cell_type": "code",
      "source": [
        "%pylab inline\n",
        "img = mpimg.imread('/content/drive/MyDrive/Dataanimals/cat.4003.jpg')\n",
        "imgplot = plt.imshow(img)\n",
        "plt.show()\n",
        "img.shape"
      ],
      "metadata": {
        "colab": {
          "base_uri": "https://localhost:8080/",
          "height": 304
        },
        "id": "hjiZZIgNvndH",
        "outputId": "407db5ca-5064-4683-9b57-0b18c1a996ef"
      },
      "execution_count": null,
      "outputs": [
        {
          "output_type": "stream",
          "name": "stdout",
          "text": [
            "Populating the interactive namespace from numpy and matplotlib\n"
          ]
        },
        {
          "output_type": "display_data",
          "data": {
            "text/plain": [
              "<Figure size 432x288 with 1 Axes>"
            ],
            "image/png": "[encoded data removed]"
          },
          "metadata": {
            "needs_background": "light"
          }
        },
        {
          "output_type": "execute_result",
          "data": {
            "text/plain": [
              "(64, 64, 3)"
            ]
          },
          "metadata": {},
          "execution_count": 42
        }
      ]
    },
    {
      "cell_type": "code",
      "source": [
        "pip install tqdm"
      ],
      "metadata": {
        "colab": {
          "base_uri": "https://localhost:8080/"
        },
        "id": "9o8ypnz3wtO6",
        "outputId": "33328eee-1f1f-4026-83e7-4ffb90470f6f"
      },
      "execution_count": null,
      "outputs": [
        {
          "output_type": "stream",
          "name": "stdout",
          "text": [
            "Looking in indexes: https://pypi.org/simple, https://us-python.pkg.dev/colab-wheels/public/simple/\n",
            "Requirement already satisfied: tqdm in /usr/local/lib/python3.8/dist-packages (4.64.1)\n"
          ]
        }
      ]
    },
    {
      "cell_type": "markdown",
      "source": [
        "**Put in dataframe images and the label, 1 for dogs and 0 for cats **"
      ],
      "metadata": {
        "id": "0CGMw3P1zxDA"
      }
    },
    {
      "cell_type": "code",
      "source": [
        "filepath = os.listdir(r\"/content/drive/MyDrive/Dataanimals/\")\n",
        "directory = \"/content/drive/MyDrive/Dataanimals\"\n",
        "import tqdm\n",
        "x=[]\n",
        "y= []\n",
        "for i in filepath:\n",
        "  category=i.split('.')[0]\n",
        "  if category=='dog':\n",
        "      y.append(1)\n",
        "  else:\n",
        "      y.append(0)\n",
        "  img = mpimg.imread(os.path.join(directory,i))\n",
        "  x.append(img)\n",
        "df=pd.DataFrame({\n",
        "    'file':filepath,\n",
        "    'categ':y\n",
        "})"
      ],
      "metadata": {
        "id": "T8nGl0Fdw1uZ"
      },
      "execution_count": null,
      "outputs": []
    },
    {
      "cell_type": "code",
      "source": [
        "print(df)"
      ],
      "metadata": {
        "colab": {
          "base_uri": "https://localhost:8080/"
        },
        "id": "eIWfBaxEy6_n",
        "outputId": "7d1c97f7-4c93-43a4-b655-b103ffb2a3e5"
      },
      "execution_count": null,
      "outputs": [
        {
          "output_type": "stream",
          "name": "stdout",
          "text": [
            "            file  categ\n",
            "0   dog.4036.jpg      1\n",
            "1   dog.4016.jpg      1\n",
            "2   dog.4024.jpg      1\n",
            "3   dog.4034.jpg      1\n",
            "4   dog.4015.jpg      1\n",
            "5   dog.4006.jpg      1\n",
            "6   dog.4017.jpg      1\n",
            "7   dog.4025.jpg      1\n",
            "8   dog.4035.jpg      1\n",
            "9   dog.4013.jpg      1\n",
            "10  dog.4005.jpg      1\n",
            "11  dog.4028.jpg      1\n",
            "12  dog.4027.jpg      1\n",
            "13  dog.4012.jpg      1\n",
            "14  dog.4001.jpg      1\n",
            "15  dog.4014.jpg      1\n",
            "16  dog.4023.jpg      1\n",
            "17  dog.4002.jpg      1\n",
            "18  dog.4026.jpg      1\n",
            "19  dog.4003.jpg      1\n",
            "20  dog.4004.jpg      1\n",
            "21  dog.4039.jpg      1\n",
            "22  dog.4038.jpg      1\n",
            "23  dog.4049.jpg      1\n",
            "24  dog.4037.jpg      1\n",
            "25  dog.4048.jpg      1\n",
            "26  dog.4050.jpg      1\n",
            "27  dog.4046.jpg      1\n",
            "28  dog.4047.jpg      1\n",
            "29  cat.4034.jpg      0\n",
            "30  dog.4045.jpg      1\n",
            "31  cat.4047.jpg      0\n",
            "32  cat.4016.jpg      0\n",
            "33  cat.4002.jpg      0\n",
            "34  cat.4026.jpg      0\n",
            "35  cat.4046.jpg      0\n",
            "36  cat.4035.jpg      0\n",
            "37  cat.4039.jpg      0\n",
            "38  cat.4045.jpg      0\n",
            "39  cat.4048.jpg      0\n",
            "40  cat.4005.jpg      0\n",
            "41  cat.4038.jpg      0\n",
            "42  cat.4027.jpg      0\n",
            "43  cat.4014.jpg      0\n",
            "44  cat.4025.jpg      0\n",
            "45  cat.4036.jpg      0\n",
            "46  cat.4013.jpg      0\n",
            "47  cat.4015.jpg      0\n",
            "48  cat.4012.jpg      0\n",
            "49  cat.4028.jpg      0\n",
            "50  cat.4023.jpg      0\n",
            "51  cat.4001.jpg      0\n",
            "52  cat.4049.jpg      0\n",
            "53  cat.4003.jpg      0\n",
            "54  cat.4017.jpg      0\n",
            "55  cat.4004.jpg      0\n",
            "56  cat.4037.jpg      0\n",
            "57  cat.4006.jpg      0\n",
            "58  cat.4024.jpg      0\n",
            "59  cat.4050.jpg      0\n"
          ]
        }
      ]
    },
    {
      "cell_type": "code",
      "source": [
        "print(np.array(x).shape)\n",
        "print(np.array(y).shape)"
      ],
      "metadata": {
        "colab": {
          "base_uri": "https://localhost:8080/"
        },
        "id": "qygcPghqy_7f",
        "outputId": "2b4e1f31-13d3-4cba-fe02-7890fe34ddeb"
      },
      "execution_count": null,
      "outputs": [
        {
          "output_type": "stream",
          "name": "stdout",
          "text": [
            "(60, 64, 64, 3)\n",
            "(60,)\n"
          ]
        }
      ]
    },
    {
      "cell_type": "markdown",
      "source": [
        "**Data augmentation **"
      ],
      "metadata": {
        "id": "tHBYw__b51h0"
      }
    },
    {
      "cell_type": "code",
      "source": [
        "\n",
        "data_augmentation = tf.keras.Sequential([\n",
        "layers.RandomFlip(\"horizontal_and_vertical\"),\n",
        "layers.RandomRotation(0.2),\n",
        "])\n",
        "img=[]\n",
        "lbl = []\n",
        "for i in range(len(x)) :\n",
        "  image = tf.cast(tf.expand_dims(x[i]/255, 0), tf.float32)\n",
        "  for j in range(9):\n",
        "    augmented_image = data_augmentation(image)\n",
        "    img.append(augmented_image[0])\n",
        "    \n",
        "  "
      ],
      "metadata": {
        "id": "geWQs55y0YD-"
      },
      "execution_count": null,
      "outputs": []
    },
    {
      "cell_type": "code",
      "source": [
        "print(np.array(img).shape)\n",
        "y1=np.repeat(range(2),270)\n",
        "print(np.array(y1).shape)"
      ],
      "metadata": {
        "colab": {
          "base_uri": "https://localhost:8080/"
        },
        "id": "2EKrg_2J6Rde",
        "outputId": "d1c33dea-2f1b-49e3-c411-6fcbe55982ed"
      },
      "execution_count": null,
      "outputs": [
        {
          "output_type": "stream",
          "name": "stdout",
          "text": [
            "(540, 64, 64, 3)\n",
            "(540,)\n"
          ]
        }
      ]
    },
    {
      "cell_type": "markdown",
      "source": [
        "**Split the data to 2/3 train and 1/3 test**"
      ],
      "metadata": {
        "id": "8FZb_r3q7da1"
      }
    },
    {
      "cell_type": "code",
      "source": [
        "from sklearn.model_selection import train_test_split\n",
        "x_train, x_test, y_train, y_test = train_test_split(img,y1 ,test_size= 0.33)"
      ],
      "metadata": {
        "id": "5dFGIn2r65Qe"
      },
      "execution_count": null,
      "outputs": []
    },
    {
      "cell_type": "code",
      "source": [
        "from keras.models import Sequential\n",
        "from keras.layers import Dense, Dropout, Activation, Flatten\n",
        "from keras import losses\n",
        "from sklearn.model_selection import train_test_split\n",
        "from keras.models import Sequential\n",
        "from keras.layers import MaxPooling2D\n",
        "from keras.layers import Flatten\n",
        "from keras.layers import Dense\n",
        "from tensorflow.keras.layers import Convolution2D\n",
        "from keras.layers import Dense, Dropout, Activation, Flatten\n",
        "from tensorflow.keras.utils import to_categorical"
      ],
      "metadata": {
        "id": "1reC5lzk7mhq"
      },
      "execution_count": null,
      "outputs": []
    },
    {
      "cell_type": "code",
      "source": [
        "classifier=Sequential()\n",
        "classifier.add(Convolution2D(32,3,3,input_shape=(64,64,3),activation='relu'))\n",
        "classifier.add(MaxPooling2D(pool_size = (2,2)))\n",
        "classifier.add(Convolution2D(32,3,3,input_shape=(64,64,3),activation='relu'))\n",
        "classifier.add(MaxPooling2D(pool_size = (2,2)))\n",
        "classifier.add(Flatten())\n",
        "classifier.add(Dense(30,activation='relu'))\n",
        "classifier.add(Dense(1,activation='sigmoid'))\n",
        "classifier.compile('adam',loss='binary_crossentropy',metrics=['accuracy'])"
      ],
      "metadata": {
        "id": "T52H7JtA7rEb"
      },
      "execution_count": null,
      "outputs": []
    },
    {
      "cell_type": "code",
      "source": [
        "x_train = tf.stack(x_train)\n",
        "y_train = tf.stack(y_train)\n"
      ],
      "metadata": {
        "id": "6GGkFelg7uwP"
      },
      "execution_count": null,
      "outputs": []
    },
    {
      "cell_type": "code",
      "source": [
        "classifier.fit(x_train,y_train, epochs=50 ,batch_size=32 )"
      ],
      "metadata": {
        "colab": {
          "base_uri": "https://localhost:8080/"
        },
        "id": "E-IXR9RY73Xl",
        "outputId": "a10d55f7-2b06-422f-96fd-d0ad80f54039"
      },
      "execution_count": null,
      "outputs": [
        {
          "output_type": "stream",
          "name": "stdout",
          "text": [
            "Epoch 1/50\n",
            "12/12 [==============================] - 0s 19ms/step - loss: 0.4930 - accuracy: 0.8144\n",
            "Epoch 2/50\n",
            "12/12 [==============================] - 0s 18ms/step - loss: 0.4864 - accuracy: 0.7950\n",
            "Epoch 3/50\n",
            "12/12 [==============================] - 0s 20ms/step - loss: 0.4564 - accuracy: 0.8116\n",
            "Epoch 4/50\n",
            "12/12 [==============================] - 0s 19ms/step - loss: 0.5444 - accuracy: 0.7008\n",
            "Epoch 5/50\n",
            "12/12 [==============================] - 0s 20ms/step - loss: 0.4808 - accuracy: 0.8033\n",
            "Epoch 6/50\n",
            "12/12 [==============================] - 0s 18ms/step - loss: 0.4726 - accuracy: 0.7784\n",
            "Epoch 7/50\n",
            "12/12 [==============================] - 0s 19ms/step - loss: 0.4572 - accuracy: 0.7922\n",
            "Epoch 8/50\n",
            "12/12 [==============================] - 0s 25ms/step - loss: 0.4734 - accuracy: 0.7673\n",
            "Epoch 9/50\n",
            "12/12 [==============================] - 0s 19ms/step - loss: 0.4722 - accuracy: 0.7645\n",
            "Epoch 10/50\n",
            "12/12 [==============================] - 0s 18ms/step - loss: 0.4431 - accuracy: 0.8033\n",
            "Epoch 11/50\n",
            "12/12 [==============================] - 0s 17ms/step - loss: 0.4016 - accuracy: 0.8338\n",
            "Epoch 12/50\n",
            "12/12 [==============================] - 0s 17ms/step - loss: 0.3751 - accuracy: 0.8809\n",
            "Epoch 13/50\n",
            "12/12 [==============================] - 0s 16ms/step - loss: 0.3494 - accuracy: 0.8892\n",
            "Epoch 14/50\n",
            "12/12 [==============================] - 0s 16ms/step - loss: 0.3931 - accuracy: 0.8283\n",
            "Epoch 15/50\n",
            "12/12 [==============================] - 0s 18ms/step - loss: 0.3288 - accuracy: 0.9058\n",
            "Epoch 16/50\n",
            "12/12 [==============================] - 0s 18ms/step - loss: 0.3170 - accuracy: 0.9197\n",
            "Epoch 17/50\n",
            "12/12 [==============================] - 0s 19ms/step - loss: 0.3078 - accuracy: 0.9169\n",
            "Epoch 18/50\n",
            "12/12 [==============================] - 0s 19ms/step - loss: 0.3036 - accuracy: 0.8920\n",
            "Epoch 19/50\n",
            "12/12 [==============================] - 0s 19ms/step - loss: 0.2887 - accuracy: 0.9141\n",
            "Epoch 20/50\n",
            "12/12 [==============================] - 0s 20ms/step - loss: 0.2890 - accuracy: 0.9197\n",
            "Epoch 21/50\n",
            "12/12 [==============================] - 0s 20ms/step - loss: 0.2670 - accuracy: 0.9141\n",
            "Epoch 22/50\n",
            "12/12 [==============================] - 0s 19ms/step - loss: 0.2422 - accuracy: 0.9391\n",
            "Epoch 23/50\n",
            "12/12 [==============================] - 0s 19ms/step - loss: 0.2385 - accuracy: 0.9335\n",
            "Epoch 24/50\n",
            "12/12 [==============================] - 0s 18ms/step - loss: 0.2236 - accuracy: 0.9501\n",
            "Epoch 25/50\n",
            "12/12 [==============================] - 0s 23ms/step - loss: 0.2148 - accuracy: 0.9474\n",
            "Epoch 26/50\n",
            "12/12 [==============================] - 0s 19ms/step - loss: 0.2054 - accuracy: 0.9446\n",
            "Epoch 27/50\n",
            "12/12 [==============================] - 0s 20ms/step - loss: 0.2164 - accuracy: 0.9391\n",
            "Epoch 28/50\n",
            "12/12 [==============================] - 0s 19ms/step - loss: 0.1904 - accuracy: 0.9446\n",
            "Epoch 29/50\n",
            "12/12 [==============================] - 0s 22ms/step - loss: 0.2344 - accuracy: 0.9169\n",
            "Epoch 30/50\n",
            "12/12 [==============================] - 0s 17ms/step - loss: 0.2277 - accuracy: 0.9197\n",
            "Epoch 31/50\n",
            "12/12 [==============================] - 0s 17ms/step - loss: 0.1968 - accuracy: 0.9501\n",
            "Epoch 32/50\n",
            "12/12 [==============================] - 0s 19ms/step - loss: 0.1764 - accuracy: 0.9584\n",
            "Epoch 33/50\n",
            "12/12 [==============================] - 0s 22ms/step - loss: 0.1892 - accuracy: 0.9501\n",
            "Epoch 34/50\n",
            "12/12 [==============================] - 0s 17ms/step - loss: 0.1883 - accuracy: 0.9363\n",
            "Epoch 35/50\n",
            "12/12 [==============================] - 0s 17ms/step - loss: 0.1590 - accuracy: 0.9640\n",
            "Epoch 36/50\n",
            "12/12 [==============================] - 0s 18ms/step - loss: 0.1491 - accuracy: 0.9723\n",
            "Epoch 37/50\n",
            "12/12 [==============================] - 0s 19ms/step - loss: 0.1464 - accuracy: 0.9668\n",
            "Epoch 38/50\n",
            "12/12 [==============================] - 0s 19ms/step - loss: 0.1529 - accuracy: 0.9695\n",
            "Epoch 39/50\n",
            "12/12 [==============================] - 0s 18ms/step - loss: 0.1492 - accuracy: 0.9640\n",
            "Epoch 40/50\n",
            "12/12 [==============================] - 0s 18ms/step - loss: 0.1312 - accuracy: 0.9778\n",
            "Epoch 41/50\n",
            "12/12 [==============================] - 0s 19ms/step - loss: 0.1268 - accuracy: 0.9695\n",
            "Epoch 42/50\n",
            "12/12 [==============================] - 0s 20ms/step - loss: 0.1331 - accuracy: 0.9778\n",
            "Epoch 43/50\n",
            "12/12 [==============================] - 0s 19ms/step - loss: 0.1209 - accuracy: 0.9751\n",
            "Epoch 44/50\n",
            "12/12 [==============================] - 0s 22ms/step - loss: 0.1104 - accuracy: 0.9778\n",
            "Epoch 45/50\n",
            "12/12 [==============================] - 0s 21ms/step - loss: 0.0979 - accuracy: 0.9806\n",
            "Epoch 46/50\n",
            "12/12 [==============================] - 0s 25ms/step - loss: 0.0977 - accuracy: 0.9806\n",
            "Epoch 47/50\n",
            "12/12 [==============================] - 0s 20ms/step - loss: 0.0907 - accuracy: 0.9778\n",
            "Epoch 48/50\n",
            "12/12 [==============================] - 0s 19ms/step - loss: 0.0903 - accuracy: 0.9834\n",
            "Epoch 49/50\n",
            "12/12 [==============================] - 0s 18ms/step - loss: 0.0931 - accuracy: 0.9806\n",
            "Epoch 50/50\n",
            "12/12 [==============================] - 0s 22ms/step - loss: 0.0841 - accuracy: 0.9834\n"
          ]
        },
        {
          "output_type": "execute_result",
          "data": {
            "text/plain": [
              "<keras.callbacks.History at 0x7fb9bbeae430>"
            ]
          },
          "metadata": {},
          "execution_count": 60
        }
      ]
    },
    {
      "cell_type": "code",
      "source": [
        "classifier.summary()"
      ],
      "metadata": {
        "colab": {
          "base_uri": "https://localhost:8080/"
        },
        "id": "dL7aeB0eJo79",
        "outputId": "a94ec7cf-bfeb-4f7d-abc8-7da050ae24d7"
      },
      "execution_count": null,
      "outputs": [
        {
          "output_type": "stream",
          "name": "stdout",
          "text": [
            "Model: \"sequential_9\"\n",
            "_________________________________________________________________\n",
            " Layer (type)                Output Shape              Param #   \n",
            "=================================================================\n",
            " conv2d_10 (Conv2D)          (None, 21, 21, 32)        896       \n",
            "                                                                 \n",
            " max_pooling2d_10 (MaxPoolin  (None, 10, 10, 32)       0         \n",
            " g2D)                                                            \n",
            "                                                                 \n",
            " conv2d_11 (Conv2D)          (None, 3, 3, 32)          9248      \n",
            "                                                                 \n",
            " max_pooling2d_11 (MaxPoolin  (None, 1, 1, 32)         0         \n",
            " g2D)                                                            \n",
            "                                                                 \n",
            " flatten_7 (Flatten)         (None, 32)                0         \n",
            "                                                                 \n",
            " dense_14 (Dense)            (None, 30)                990       \n",
            "                                                                 \n",
            " dense_15 (Dense)            (None, 1)                 31        \n",
            "                                                                 \n",
            "=================================================================\n",
            "Total params: 11,165\n",
            "Trainable params: 11,165\n",
            "Non-trainable params: 0\n",
            "_________________________________________________________________\n"
          ]
        }
      ]
    },
    {
      "cell_type": "code",
      "source": [
        "classifier.save(\"model1_catsVSdogs_10epoch.h5\")"
      ],
      "metadata": {
        "id": "Qi_WlJpYWI1p"
      },
      "execution_count": null,
      "outputs": []
    },
    {
      "cell_type": "code",
      "source": [
        "from keras.models import load_model\n",
        "filename='/content/drive/MyDrive/Dataanimals/cat.4046.jpg'\n",
        "def prob(pred):\n",
        "  if pred>0.5 :\n",
        "    pred=1\n",
        "  else:\n",
        "    pred=0\n",
        "  return pred\n",
        "def classify(file):\n",
        "        model = load_model('model1_catsVSdogs_10epoch.h5')\n",
        "        #dictionary to label all traffic signs class.\n",
        "        classes = { \n",
        "        1:'its a cat',\n",
        "        0:'its a dog',\n",
        " \n",
        "        }\n",
        "        global label_packed\n",
        "        image = Image.open(file)\n",
        "        image = image.resize((64,64))\n",
        "        image = np.expand_dims(image, axis=0)\n",
        "        image = np.array(image)\n",
        "        image = image/255\n",
        "        pred = model.predict([image])[0]\n",
        "        classes_x=prob(pred[0])\n",
        "        sign = classes[classes_x]\n",
        "        print(sign)\n",
        " \n",
        "       \n",
        "        return sign\n",
        "\n",
        "classify(filename)"
      ],
      "metadata": {
        "colab": {
          "base_uri": "https://localhost:8080/"
        },
        "id": "-JvC9YHlublH",
        "outputId": "727a69b0-d112-498d-a7c8-d9dff797f0f2"
      },
      "execution_count": null,
      "outputs": [
        {
          "output_type": "stream",
          "name": "stdout",
          "text": [
            "1/1 [==============================] - 0s 65ms/step\n",
            "its a cat\n"
          ]
        },
        {
          "output_type": "execute_result",
          "data": {
            "text/plain": [
              "1"
            ]
          },
          "metadata": {},
          "execution_count": 88
        }
      ]
    }
  ]
}