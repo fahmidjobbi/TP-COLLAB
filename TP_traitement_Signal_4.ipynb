{
  "nbformat": 4,
  "nbformat_minor": 0,
  "metadata": {
    "colab": {
      "name": "TP traitement Signal 4.ipynb",
      "provenance": [],
      "collapsed_sections": [],
      "authorship_tag": "ABX9TyP3f/lqW8uWyehmj1VQJHBk",
      "include_colab_link": true
    },
    "kernelspec": {
      "name": "python3",
      "display_name": "Python 3"
    },
    "language_info": {
      "name": "python"
    }
  },
  "cells": [
    {
      "cell_type": "markdown",
      "metadata": {
        "id": "view-in-github",
        "colab_type": "text"
      },
      "source": [
        "<a href=\"https://colab.research.google.com/github/fahmidjobbi/TP-COLLAB/blob/main/TP_traitement_Signal_4.ipynb\" target=\"_parent\"><img src=\"https://colab.research.google.com/assets/colab-badge.svg\" alt=\"Open In Colab\"/></a>"
      ]
    },
    {
      "cell_type": "markdown",
      "metadata": {
        "id": "M6iE6WvrV_QA"
      },
      "source": [
        "**TP 2 : FAHMI DJOBBI DSEN **\n"
      ]
    },
    {
      "cell_type": "code",
      "metadata": {
        "id": "zYQDkqxpKCya"
      },
      "source": [
        "from IPython import get_ipython\n",
        "get_ipython().magic('reset -sf')\n",
        "import numpy as np\n",
        "import matplotlib.pyplot as plt "
      ],
      "execution_count": null,
      "outputs": []
    },
    {
      "cell_type": "code",
      "metadata": {
        "id": "OIhBtcspMFBI"
      },
      "source": [
        "#app sig cos() ech \n",
        "f0=10\n",
        "Fe=80\n",
        "T0=1/Fe\n",
        "#N=32\n",
        "#.........q1.2\n",
        "#Np=Fe \n",
        "#N=100*Np   #avec Np=(1/F0)/(1/Fe)\n",
        "#...........q1.3\n",
        "N=20\n",
        "t=np.arange(0,N)*T0\n",
        "x=np.cos(2*np.pi*f0*t)\n",
        "# t=0:T0:N*T0-T0"
      ],
      "execution_count": null,
      "outputs": []
    },
    {
      "cell_type": "code",
      "metadata": {
        "colab": {
          "base_uri": "https://localhost:8080/",
          "height": 233
        },
        "id": "DgV_Ah37Oo3H",
        "outputId": "aad45042-c91e-428f-ea4a-0d48510a88a9"
      },
      "source": [
        "plt.figure()\n",
        "plt.subplot(211)\n",
        "plt.stem(t,x)\n",
        "plt.xlabel('temps(s)')\n",
        "plt.ylabel('amplitude')"
      ],
      "execution_count": null,
      "outputs": [
        {
          "output_type": "stream",
          "name": "stderr",
          "text": [
            "/usr/local/lib/python3.7/dist-packages/ipykernel_launcher.py:3: UserWarning: In Matplotlib 3.3 individual lines on a stem plot will be added as a LineCollection instead of individual lines. This significantly improves the performance of a stem plot. To remove this warning and switch to the new behaviour, set the \"use_line_collection\" keyword argument to True.\n",
            "  This is separate from the ipykernel package so we can avoid doing imports until\n"
          ]
        },
        {
          "output_type": "execute_result",
          "data": {
            "text/plain": [
              "Text(0, 0.5, 'amplitude')"
            ]
          },
          "metadata": {},
          "execution_count": 16
        },
        {
          "output_type": "display_data",
          "data": {
            "image/png": "[encoded data removed]",
            "text/plain": [
              "<Figure size 432x288 with 1 Axes>"
            ]
          },
          "metadata": {
            "needs_background": "light"
          }
        }
      ]
    },
    {
      "cell_type": "code",
      "metadata": {
        "id": "CHHRZvp2QR45"
      },
      "source": [
        "N=len(x)\n",
        "def nextpow2(N):\n",
        "  n=1\n",
        "  while n<N: n*=2\n",
        "  return n\n",
        "Nf=nextpow2(N)\n",
        "X=np.fft.fft(x,Nf)/N \n",
        "X=np.fft.fftshift(X)\n",
        "Xa=np.abs(X)\n",
        "fp=np.arange(-Nf/2,Nf/2)*Fe/Nf\n",
        "\n"
      ],
      "execution_count": null,
      "outputs": []
    },
    {
      "cell_type": "code",
      "metadata": {
        "colab": {
          "base_uri": "https://localhost:8080/",
          "height": 233
        },
        "id": "sr5Ls6OeTNet",
        "outputId": "0f972ac2-222e-46a4-9c19-4a86b12d508f"
      },
      "source": [
        "plt.subplot(212)\n",
        "plt.stem(fp,Xa)\n",
        "plt.xlabel('frequence (Hz)')\n",
        "plt.ylabel('sepctre d''amplitude')"
      ],
      "execution_count": null,
      "outputs": [
        {
          "output_type": "stream",
          "name": "stderr",
          "text": [
            "/usr/local/lib/python3.7/dist-packages/ipykernel_launcher.py:2: UserWarning: In Matplotlib 3.3 individual lines on a stem plot will be added as a LineCollection instead of individual lines. This significantly improves the performance of a stem plot. To remove this warning and switch to the new behaviour, set the \"use_line_collection\" keyword argument to True.\n",
            "  \n"
          ]
        },
        {
          "output_type": "execute_result",
          "data": {
            "text/plain": [
              "Text(0, 0.5, 'sepctre damplitude')"
            ]
          },
          "metadata": {},
          "execution_count": 11
        },
        {
          "output_type": "display_data",
          "data": {
            "image/png": "[encoded data removed]",
            "text/plain": [
              "<Figure size 432x288 with 1 Axes>"
            ]
          },
          "metadata": {
            "needs_background": "light"
          }
        }
      ]
    },
    {
      "cell_type": "code",
      "metadata": {
        "id": "iPXjDVpFcEFx"
      },
      "source": [
        ""
      ],
      "execution_count": null,
      "outputs": []
    }
  ]
}