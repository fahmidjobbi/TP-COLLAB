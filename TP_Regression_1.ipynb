{
  "nbformat": 4,
  "nbformat_minor": 0,
  "metadata": {
    "colab": {
      "name": "TP Regression 1.ipynb",
      "provenance": [],
      "collapsed_sections": [],
      "authorship_tag": "ABX9TyMGmZoZU56i4HpxbQFy8G+Y",
      "include_colab_link": true
    },
    "kernelspec": {
      "name": "python3",
      "display_name": "Python 3"
    },
    "language_info": {
      "name": "python"
    }
  },
  "cells": [
    {
      "cell_type": "markdown",
      "metadata": {
        "id": "view-in-github",
        "colab_type": "text"
      },
      "source": [
        "<a href=\"https://colab.research.google.com/github/fahmidjobbi/TP-COLLAB/blob/main/TP_Regression_1.ipynb\" target=\"_parent\"><img src=\"https://colab.research.google.com/assets/colab-badge.svg\" alt=\"Open In Colab\"/></a>"
      ]
    },
    {
      "cell_type": "code",
      "execution_count": null,
      "metadata": {
        "colab": {
          "base_uri": "https://localhost:8080/"
        },
        "id": "Zg667OeComPt",
        "outputId": "59123758-e0b2-4233-c38d-83b1ed73f2ba"
      },
      "outputs": [
        {
          "output_type": "stream",
          "name": "stdout",
          "text": [
            "     Home   Price  SqFt  Bedrooms  Bathrooms  Offers Brick Neighborhood\n",
            "0       1  114300  1790         2          2       2    No         East\n",
            "1       2  114200  2030         4          2       3    No         East\n",
            "2       3  114800  1740         3          2       1    No         East\n",
            "3       4   94700  1980         3          2       3    No         East\n",
            "4       5  119800  2130         3          3       3    No         East\n",
            "..    ...     ...   ...       ...        ...     ...   ...          ...\n",
            "123   124  119700  1900         3          3       3   Yes         East\n",
            "124   125  147900  2160         4          3       3   Yes         East\n",
            "125   126  113500  2070         2          2       2    No        North\n",
            "126   127  149900  2020         3          3       1    No         West\n",
            "127   128  124600  2250         3          3       4    No        North\n",
            "\n",
            "[128 rows x 8 columns]\n"
          ]
        }
      ],
      "source": [
        "import pandas as pd\n",
        "import numpy as np\n",
        "url='/content/house-prices.csv'\n",
        "dataset = pd.read_csv(url)\n",
        "print(dataset)\n",
        "\n",
        "price=dataset['Price']\n",
        "Y=np.array(price).reshape(-1,1)"
      ]
    },
    {
      "cell_type": "code",
      "source": [
        "Data=dataset.drop(['Price','Brick','Neighborhood','Home'],axis=1)\n",
        "\n",
        " \n",
        "\n",
        "from sklearn.preprocessing import LabelEncoder\n",
        "X1=dataset['Brick']\n",
        "le = LabelEncoder()\n",
        "X1New = le.fit_transform(X1) \n",
        "X1New = X1New.reshape(-1,1)\n",
        "\n",
        " \n",
        "\n",
        "X2=dataset['Neighborhood']\n",
        "le1 = LabelEncoder()\n",
        "X2New = le1.fit_transform(X2) \n",
        "X2New = X2New.reshape(-1,1)\n",
        "newdata=np.concatenate((Data,X1New,X2New),axis=1)\n",
        "\n",
        "from sklearn.ensemble import RandomForestRegressor\n",
        "model = RandomForestRegressor( random_state=0)\n",
        "model.fit(newdata, Y)\n",
        "\n",
        "label=model.predict(newdata)\n",
        "from sklearn.metrics import mean_squared_error\n",
        "mse=mean_squared_error(Y, label)\n",
        "import math\n",
        "print('RMSE', math.sqrt(mse))\n",
        "import pandas as pd\n",
        "y=pd.DataFrame(Y)\n",
        "y.describe()\n",
        "from sklearn.metrics import explained_variance_score\n",
        "EV=explained_variance_score(y,label)\n",
        "print(\"Explained variance %f\" %(EV))\n",
        "\n"
      ],
      "metadata": {
        "colab": {
          "base_uri": "https://localhost:8080/"
        },
        "id": "1-Gq2UB3p9sT",
        "outputId": "469df716-bf4d-4151-d04e-8abb55bfb689"
      },
      "execution_count": null,
      "outputs": [
        {
          "output_type": "stream",
          "name": "stderr",
          "text": [
            "/usr/local/lib/python3.7/dist-packages/ipykernel_launcher.py:21: DataConversionWarning: A column-vector y was passed when a 1d array was expected. Please change the shape of y to (n_samples,), for example using ravel().\n"
          ]
        },
        {
          "output_type": "stream",
          "name": "stdout",
          "text": [
            "RMSE 4979.669477420539\n",
            "Explained variance 0.965460\n"
          ]
        }
      ]
    }
  ]
}