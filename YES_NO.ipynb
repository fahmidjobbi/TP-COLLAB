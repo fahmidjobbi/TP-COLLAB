{
  "nbformat": 4,
  "nbformat_minor": 0,
  "metadata": {
    "colab": {
      "provenance": [],
      "collapsed_sections": [],
      "authorship_tag": "ABX9TyMK1G9z9DQ7JqStjWdKP9NH",
      "include_colab_link": true
    },
    "kernelspec": {
      "name": "python3",
      "display_name": "Python 3"
    },
    "language_info": {
      "name": "python"
    },
    "accelerator": "GPU",
    "gpuClass": "standard"
  },
  "cells": [
    {
      "cell_type": "markdown",
      "metadata": {
        "id": "view-in-github",
        "colab_type": "text"
      },
      "source": [
        "<a href=\"https://colab.research.google.com/github/fahmidjobbi/TP-COLLAB/blob/main/YES_NO.ipynb\" target=\"_parent\"><img src=\"https://colab.research.google.com/assets/colab-badge.svg\" alt=\"Open In Colab\"/></a>"
      ]
    },
    {
      "cell_type": "code",
      "execution_count": 1,
      "metadata": {
        "colab": {
          "base_uri": "https://localhost:8080/"
        },
        "id": "-FfoFwhe5fRE",
        "outputId": "16bd7f94-b0aa-478e-970b-d39d1fc477ac"
      },
      "outputs": [
        {
          "output_type": "stream",
          "name": "stdout",
          "text": [
            "Mounted at /content/drive\n"
          ]
        }
      ],
      "source": [
        "from google.colab import drive\n",
        "drive.mount('/content/drive')"
      ]
    },
    {
      "cell_type": "code",
      "source": [
        "from numpy import expand_dims\n",
        "\n",
        "from numpy import zeros\n",
        "\n",
        "from numpy import ones\n",
        "\n",
        "from numpy import vstack\n",
        "\n",
        "from numpy.random import randn\n",
        "\n",
        "from numpy.random import randint\n",
        "\n",
        "from keras.datasets.mnist import load_data\n",
        "\n",
        "from tensorflow.keras.optimizers import Adam\n",
        "\n",
        "from keras.models import Sequential\n",
        "\n",
        "from keras.layers import Dense\n",
        "\n",
        "from keras.layers import Reshape\n",
        "\n",
        "from keras.layers import Flatten\n",
        "\n",
        "from keras.layers import Conv2D\n",
        "\n",
        "from keras.layers import Conv2DTranspose\n",
        "\n",
        "from keras.layers import LeakyReLU\n",
        "\n",
        "from keras.layers import Dropout\n",
        "\n",
        "from matplotlib import pyplot\n"
      ],
      "metadata": {
        "id": "mNT5QOHi7ZBt"
      },
      "execution_count": 2,
      "outputs": []
    },
    {
      "cell_type": "code",
      "source": [
        "import tensorflow as tf\n",
        "print(\"Num GPUs Availble:\", len(tf.config.list_physical_devices('GPU')))"
      ],
      "metadata": {
        "colab": {
          "base_uri": "https://localhost:8080/"
        },
        "id": "WMM757gO7iZD",
        "outputId": "904acb20-229c-4258-c050-9dcdcf1f3943"
      },
      "execution_count": 3,
      "outputs": [
        {
          "output_type": "stream",
          "name": "stdout",
          "text": [
            "Num GPUs Availble: 1\n"
          ]
        }
      ]
    },
    {
      "cell_type": "code",
      "source": [
        "import os\n",
        "os.chdir('/content/drive/MyDrive/yes')\n",
        "os.getcwd()"
      ],
      "metadata": {
        "colab": {
          "base_uri": "https://localhost:8080/",
          "height": 35
        },
        "id": "aPhVqly37l1i",
        "outputId": "b9a422c9-e988-4441-9dc9-c8c85243a505"
      },
      "execution_count": 4,
      "outputs": [
        {
          "output_type": "execute_result",
          "data": {
            "text/plain": [
              "'/content/drive/MyDrive/yes'"
            ],
            "application/vnd.google.colaboratory.intrinsic+json": {
              "type": "string"
            }
          },
          "metadata": {},
          "execution_count": 4
        }
      ]
    },
    {
      "cell_type": "code",
      "source": [
        "import cv2\n",
        "import glob\n",
        "Data=[]\n",
        "for i in glob.glob(\"/content/drive/MyDrive/yes/*\"):\n",
        "  image=cv2.imread(i, cv2.IMREAD_COLOR)\n",
        "  bigger=cv2.resize(image, (80,80))\n",
        "  Data.append(bigger)"
      ],
      "metadata": {
        "id": "063Ro6t89EVD"
      },
      "execution_count": 5,
      "outputs": []
    },
    {
      "cell_type": "code",
      "source": [
        "import numpy as np\n",
        "Data=np.array(Data)\n",
        "type(Data)\n",
        "Data.shape"
      ],
      "metadata": {
        "colab": {
          "base_uri": "https://localhost:8080/"
        },
        "id": "0mNBKsud9NJs",
        "outputId": "e62a115a-d612-4883-a388-8028d481dec8"
      },
      "execution_count": 10,
      "outputs": [
        {
          "output_type": "execute_result",
          "data": {
            "text/plain": [
              "(155, 80, 80, 3)"
            ]
          },
          "metadata": {},
          "execution_count": 10
        }
      ]
    },
    {
      "cell_type": "code",
      "source": [
        "# define the standalone discriminator model\n",
        "\n",
        "def define_discriminator(in_shape=(80,80,3)):\n",
        "\n",
        "  model = Sequential()\n",
        "\n",
        "  model.add(Conv2D(256, (3,3), strides=(2, 2), padding='same', input_shape=in_shape))\n",
        "\n",
        "  model.add(LeakyReLU(alpha=0.2))\n",
        "\n",
        "  model.add(Dropout(0.4))\n",
        "\n",
        "  model.add(Conv2D(256, (3,3), strides=(2, 2), padding='same'))\n",
        "\n",
        "  model.add(LeakyReLU(alpha=0.2))\n",
        "\n",
        "  model.add(Dropout(0.4))\n",
        "\n",
        "  model.add(Flatten())\n",
        "\n",
        "  model.add(Dense(1, activation='sigmoid'))\n",
        "\n",
        "  # compile model\n",
        "\n",
        "  opt = Adam(lr=0.0002, beta_1=0.5)\n",
        "\n",
        "  model.compile(loss='binary_crossentropy', optimizer=opt, metrics=['accuracy'])\n",
        "\n",
        "  return model"
      ],
      "metadata": {
        "id": "uv9kqhxL9cNu"
      },
      "execution_count": 11,
      "outputs": []
    },
    {
      "cell_type": "code",
      "source": [
        "discriminator=define_discriminator()\n",
        "discriminator.summary()"
      ],
      "metadata": {
        "colab": {
          "base_uri": "https://localhost:8080/"
        },
        "id": "GGIo7c4h9tRv",
        "outputId": "c4ead37d-e586-4120-a179-df4afde3e5f5"
      },
      "execution_count": 12,
      "outputs": [
        {
          "output_type": "stream",
          "name": "stdout",
          "text": [
            "Model: \"sequential\"\n",
            "_________________________________________________________________\n",
            " Layer (type)                Output Shape              Param #   \n",
            "=================================================================\n",
            " conv2d (Conv2D)             (None, 40, 40, 256)       7168      \n",
            "                                                                 \n",
            " leaky_re_lu (LeakyReLU)     (None, 40, 40, 256)       0         \n",
            "                                                                 \n",
            " dropout (Dropout)           (None, 40, 40, 256)       0         \n",
            "                                                                 \n",
            " conv2d_1 (Conv2D)           (None, 20, 20, 256)       590080    \n",
            "                                                                 \n",
            " leaky_re_lu_1 (LeakyReLU)   (None, 20, 20, 256)       0         \n",
            "                                                                 \n",
            " dropout_1 (Dropout)         (None, 20, 20, 256)       0         \n",
            "                                                                 \n",
            " flatten (Flatten)           (None, 102400)            0         \n",
            "                                                                 \n",
            " dense (Dense)               (None, 1)                 102401    \n",
            "                                                                 \n",
            "=================================================================\n",
            "Total params: 699,649\n",
            "Trainable params: 699,649\n",
            "Non-trainable params: 0\n",
            "_________________________________________________________________\n"
          ]
        },
        {
          "output_type": "stream",
          "name": "stderr",
          "text": [
            "/usr/local/lib/python3.7/dist-packages/keras/optimizers/optimizer_v2/adam.py:110: UserWarning: The `lr` argument is deprecated, use `learning_rate` instead.\n",
            "  super(Adam, self).__init__(name, **kwargs)\n"
          ]
        }
      ]
    },
    {
      "cell_type": "code",
      "source": [
        "def define_generator(latent_dim):\n",
        "   n_nodes= 256*20*20\n",
        "   \n",
        "   model = Sequential()\n",
        "   model.add(Dense(n_nodes, input_dim=latent_dim))\n",
        "   model.add(LeakyReLU(alpha=0.2))\n",
        "   model.add(Reshape((20, 20, 256)))\n",
        "   #upsample tp 14*14\n",
        "   model.add(Conv2DTranspose(256, (4, 4), strides=(2, 2), padding='same'))\n",
        "   model.add(LeakyReLU(alpha=0.2))\n",
        "   #upsample to 28*28\n",
        "   model.add(Conv2DTranspose(256, (4,4), strides=(2, 2), padding='same'))\n",
        "   model.add(LeakyReLU(alpha=0.2))\n",
        "   model.add(Conv2D(3, (20,20), activation='sigmoid', padding='same' ))\n",
        "   return model\n"
      ],
      "metadata": {
        "id": "VBNuS2qt91mr"
      },
      "execution_count": 13,
      "outputs": []
    },
    {
      "cell_type": "code",
      "source": [
        "generator=define_generator(100)\n",
        "generator.summary()"
      ],
      "metadata": {
        "colab": {
          "base_uri": "https://localhost:8080/"
        },
        "id": "y_AAztBZ95HX",
        "outputId": "587cca9d-7278-4dce-9fee-e1c3eb531896"
      },
      "execution_count": 15,
      "outputs": [
        {
          "output_type": "stream",
          "name": "stdout",
          "text": [
            "Model: \"sequential_2\"\n",
            "_________________________________________________________________\n",
            " Layer (type)                Output Shape              Param #   \n",
            "=================================================================\n",
            " dense_2 (Dense)             (None, 102400)            10342400  \n",
            "                                                                 \n",
            " leaky_re_lu_5 (LeakyReLU)   (None, 102400)            0         \n",
            "                                                                 \n",
            " reshape_1 (Reshape)         (None, 20, 20, 256)       0         \n",
            "                                                                 \n",
            " conv2d_transpose_2 (Conv2DT  (None, 40, 40, 256)      1048832   \n",
            " ranspose)                                                       \n",
            "                                                                 \n",
            " leaky_re_lu_6 (LeakyReLU)   (None, 40, 40, 256)       0         \n",
            "                                                                 \n",
            " conv2d_transpose_3 (Conv2DT  (None, 80, 80, 256)      1048832   \n",
            " ranspose)                                                       \n",
            "                                                                 \n",
            " leaky_re_lu_7 (LeakyReLU)   (None, 80, 80, 256)       0         \n",
            "                                                                 \n",
            " conv2d_3 (Conv2D)           (None, 80, 80, 3)         307203    \n",
            "                                                                 \n",
            "=================================================================\n",
            "Total params: 12,747,267\n",
            "Trainable params: 12,747,267\n",
            "Non-trainable params: 0\n",
            "_________________________________________________________________\n"
          ]
        }
      ]
    },
    {
      "cell_type": "code",
      "source": [
        "from tensorflow._api.v2.config import optimizer\n",
        "def define_gan(g_model, d_model):\n",
        "  #make weights in the discriminator not trainable\n",
        "  d_model.trainable=False\n",
        "  #connect them\n",
        "  model=Sequential()\n",
        "  #add generator\n",
        "  model.add(g_model)\n",
        "  #add discriminator\n",
        "  model.add(d_model)\n",
        "  #compile mode\n",
        "  opt= Adam(lr=0.0002, beta_1=0.5)\n",
        "  model.compile(loss='binary_crossentropy', optimizer=opt)\n",
        "  return model"
      ],
      "metadata": {
        "id": "I64_0Bwr-N4U"
      },
      "execution_count": 16,
      "outputs": []
    },
    {
      "cell_type": "code",
      "source": [
        "#load and prepare mnist training images\n",
        "def load_real_samples(Data1):\n",
        "  X = Data1.astype('float32')\n",
        "  X = X/255.0\n",
        "  return X"
      ],
      "metadata": {
        "id": "Bu7ZHzQO-TFL"
      },
      "execution_count": 17,
      "outputs": []
    },
    {
      "cell_type": "code",
      "source": [
        "X1=load_real_samples(Data)\n",
        "X1.shape\n"
      ],
      "metadata": {
        "colab": {
          "base_uri": "https://localhost:8080/"
        },
        "id": "oVm_7lm--V_l",
        "outputId": "9ace703b-3a21-4a36-8d8a-2588fc07b7c3"
      },
      "execution_count": 20,
      "outputs": [
        {
          "output_type": "execute_result",
          "data": {
            "text/plain": [
              "(155, 80, 80, 3)"
            ]
          },
          "metadata": {},
          "execution_count": 20
        }
      ]
    }
  ]
}